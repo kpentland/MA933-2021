{
 "cells": [
  {
   "cell_type": "markdown",
   "metadata": {},
   "source": [
    "# Support Class 1 - Introduction to Python"
   ]
  },
  {
   "cell_type": "markdown",
   "metadata": {},
   "source": [
    "This notebook is intended to give a brief introduction to Python and how to carry out some basic commands. \n",
    "\n",
    "Note: These notebooks have been made using Python 3. There are a lot of packages available for use in Python so if something doesn't work, chances are you may need to install it from the terminal. Usually google the package name and follow the instructions for installation. \n",
    "\n",
    "You can use this brief cheatsheet for comparing syntax in MATLAB, Python, and Julia here: [https://cheatsheets.quantecon.org/](https://cheatsheets.quantecon.org/).\n",
    "\n",
    "Some keyboard shortcuts for jupyter notebooks:\n",
    "- **b** inserts a new cell (below the selected one)\n",
    "- **d (press twice)** deletes the current cell\n",
    "- **shift+enter** runs code in the current cell\n",
    "- **ctrl+?** comments out highlighted code (#)\n",
    "See 'Keyboard shortcuts' in the Help menu above for more. "
   ]
  },
  {
   "cell_type": "code",
   "execution_count": null,
   "metadata": {},
   "outputs": [],
   "source": [
    "# Load some packages \n",
    "# (if you get an error, you need to install the package in the terminal)\n",
    "import numpy as np                #scientific computing\n",
    "import matplotlib.pyplot as plt   #plotting\n",
    "from scipy import linalg as lg    #contains lots of packages (such as NumPy, matplotlib, linalg etc)\n",
    "import seaborn as sns             #helps with data manipulation/plotting"
   ]
  },
  {
   "cell_type": "markdown",
   "metadata": {},
   "source": [
    "### Basic Commands"
   ]
  },
  {
   "cell_type": "markdown",
   "metadata": {},
   "source": [
    "If you forget syntax and commands (like I do every single day) you can just google them!"
   ]
  },
  {
   "cell_type": "code",
   "execution_count": null,
   "metadata": {},
   "outputs": [],
   "source": [
    "np.ones(4)                     #array of ones"
   ]
  },
  {
   "cell_type": "code",
   "execution_count": null,
   "metadata": {},
   "outputs": [],
   "source": [
    "np.zeros(10)                   #array of zeros"
   ]
  },
  {
   "cell_type": "code",
   "execution_count": null,
   "metadata": {},
   "outputs": [],
   "source": [
    "np.ones(shape=(3,3))           #matrix of ones of dimension 3x3"
   ]
  },
  {
   "cell_type": "code",
   "execution_count": null,
   "metadata": {
    "scrolled": true
   },
   "outputs": [],
   "source": [
    "print(np.zeros(shape = (3,3))) #matrix of zeros (print command removes the 'array' bit)"
   ]
  },
  {
   "cell_type": "code",
   "execution_count": null,
   "metadata": {},
   "outputs": [],
   "source": [
    "np.linspace(0,1, 20) #start, stop, number (start and stop included)"
   ]
  },
  {
   "cell_type": "code",
   "execution_count": null,
   "metadata": {},
   "outputs": [],
   "source": [
    "np.arange(0,1, 0.1) #start, stop, step (stop not included)"
   ]
  },
  {
   "cell_type": "code",
   "execution_count": null,
   "metadata": {},
   "outputs": [],
   "source": [
    "print(np.random.rand())     #uniform random (0,1) number\n",
    "print(np.random.rand(4))    #array of uniform random numbers\n",
    "print(np.random.rand(3,3))  #matrix of random uniforms"
   ]
  },
  {
   "cell_type": "code",
   "execution_count": null,
   "metadata": {},
   "outputs": [],
   "source": [
    "print(np.random.randint(-10,10,5))   #random integers (start,stop,array length)\n",
    "print(np.random.randn())          #standard normal"
   ]
  },
  {
   "cell_type": "markdown",
   "metadata": {},
   "source": [
    "Note that if I have a list of commands, Jupyter will only print out the result of the final line."
   ]
  },
  {
   "cell_type": "code",
   "execution_count": null,
   "metadata": {},
   "outputs": [],
   "source": [
    "np.ones(4)           #array of ones\n",
    "np.zeros(4)          #array of zeros\n",
    "np.ones(shape=(3,3)) #matrix of ones of dimension 3x3"
   ]
  },
  {
   "cell_type": "markdown",
   "metadata": {},
   "source": [
    "### Linear Algebra"
   ]
  },
  {
   "cell_type": "markdown",
   "metadata": {},
   "source": [
    "Consider matrix $\n",
    "M = \\begin{pmatrix}\n",
    "2 & 5 & 7 \\\\\n",
    "6 & 1 & 8 \\\\\n",
    "4 & 3 & 2\n",
    "\\end{pmatrix} \\in R^{3 \\times 3}\n",
    "$"
   ]
  },
  {
   "cell_type": "code",
   "execution_count": null,
   "metadata": {},
   "outputs": [],
   "source": [
    "#define a matrix in a variable M\n",
    "M = np.array([[2,5,7],[6,1,8], [4,3,2]]) \n",
    "\n",
    "# we can return the shape (dimensions) of M\n",
    "print('shape = ',np.shape(M)) \n",
    "\n",
    "#we can return specific elements (note inidexing is from zero)\n",
    "print('Indexing is from zero, M[0,0] =', M[0,0])\n",
    "\n",
    "#we can print print/manipulate columns\n",
    "print('3rd column (M[:,2]) = ', M[:,2])\n",
    "\n",
    "#print M\n",
    "print('M = ',M)"
   ]
  },
  {
   "cell_type": "code",
   "execution_count": null,
   "metadata": {},
   "outputs": [],
   "source": [
    "print('Element wise multiplication \\n', M*M)\n",
    "\n",
    "print('\\nMatrix multiplication \\n', np.dot(M,M))\n",
    "\n",
    "print('\\n Powers of matrix (M^5) \\n', np.linalg.matrix_power(M, 5) )\n",
    "\n",
    "print('\\n Matrix Exponential (exp(M)) \\n', lg.expm(M))"
   ]
  },
  {
   "cell_type": "code",
   "execution_count": null,
   "metadata": {},
   "outputs": [],
   "source": [
    "print('M = \\n', M)\n",
    "\n",
    "print('\\n Transpose \\n', M.T )\n",
    "\n",
    "print('\\n Determinant \\n', np.linalg.det(M))\n",
    "\n",
    "print('\\n Trace \\n', np.trace(M))\n",
    "\n",
    "print('\\n Inverse \\n', lg.inv(M))\n"
   ]
  },
  {
   "cell_type": "code",
   "execution_count": null,
   "metadata": {},
   "outputs": [],
   "source": [
    "evals, evecs = np.linalg.eig(M)\n",
    "\n",
    "print('Eigenvalues \\n', evals)\n",
    "\n",
    "print('\\n Corresponding eigenvectors \\n', evecs)\n"
   ]
  },
  {
   "cell_type": "markdown",
   "metadata": {},
   "source": [
    "Consider the linear system $Ax = b$ for  \n",
    "\n",
    "$\n",
    "A = \\begin{pmatrix}\n",
    "2 & 5 \\\\\n",
    "6 & 1 \n",
    "\\end{pmatrix} \\in R^{2 \\times 2}, \\ b = \\begin{pmatrix} 1 \\\\ 1 \\end{pmatrix} \\in \\mathbb{R}^{2 \\times 1}\n",
    "$"
   ]
  },
  {
   "cell_type": "code",
   "execution_count": null,
   "metadata": {},
   "outputs": [],
   "source": [
    "A = [[2,5], [6,1]]\n",
    "b = [1,1]\n",
    "x = np.linalg.solve(A,b)\n",
    "print('Solution is \\n', x)\n",
    "\n",
    "print('\\n Check solution, Ax = \\n', np.dot(A,x))"
   ]
  },
  {
   "cell_type": "markdown",
   "metadata": {},
   "source": [
    "### Simple Random Walks (SRW)"
   ]
  },
  {
   "cell_type": "markdown",
   "metadata": {},
   "source": [
    "**Defintion of a SRW**: Let $x_1, ..., x_n \\in \\{-1,1\\}$ be iid random variables with discrete density: $\\mathbb{P}[x_k = 1] = p, \\mathbb{P}[x_k = -1] = q$. Then the sequence $Y_0, Y_1,...$ defined as $Y_0 = 0$ and $Y_n = \\sum_{k=1}^{n} x_k$ is the simple random walk on $\\mathbb{Z}$."
   ]
  },
  {
   "cell_type": "code",
   "execution_count": null,
   "metadata": {},
   "outputs": [],
   "source": [
    "#Inputs \n",
    "p = 0.5     #probability of jumping up (+1)\n",
    "q = 1 - p   #probability of jumping down (-1)\n",
    "\n",
    "t = 0       #initialise start time\n",
    "tmax = 100  #initialise end time\n",
    "\n",
    "sum_x = 0   #initial starting place\n",
    "\n",
    "#Main code\n",
    "y_0 = 0     #initial sum is zero\n",
    "\n",
    "#initialise time and position arrays\n",
    "time_plot=[t]\n",
    "Y = [y_0]\n",
    "\n",
    "\n",
    "#This mini section makes the movie\n",
    "\n",
    "fig = plt.figure(figsize = (20,8))\n",
    "ax = fig.add_subplot(111)\n",
    "\n",
    "plt.ion\n",
    "plt.title('Simple Random Walk')\n",
    "\n",
    "fig.show()\n",
    "fig.canvas.draw()\n",
    "\n",
    "while t <tmax:\n",
    "    r = np.random.rand()\n",
    "    if r<p:\n",
    "        x = 1\n",
    "    else:\n",
    "        x = -1\n",
    "    sum_x = sum_x + x\n",
    "    \n",
    "    ax.clear()\n",
    "    ax.plot(time_plot, Y)\n",
    "    t +=1\n",
    "    Y.append(sum_x)\n",
    "    time_plot.append(t)\n",
    "    fig.canvas.draw()\n",
    "    plt.xlabel('Time')\n",
    "    plt.ylabel('State (position)')\n",
    "    plt.tight_layout()\n",
    "    plt.grid()\n",
    "    \n"
   ]
  },
  {
   "cell_type": "markdown",
   "metadata": {},
   "source": [
    "Recall some properties of a simple random walk:\n",
    "\n",
    "$\\mathbb{E}[Y_n] = \\mathbb{E}\\left[ \\sum_{k=1}^{n} x_k \\right] = \\sum_{k=1}^{n} \\mathbb{E}(x_k) = n(2p-1)$ \n",
    "\n",
    "and \n",
    "\n",
    "$ var[Y_n] = var\\left[ \\sum_{k=1}^{n} x_k \\right] = \\sum_{k=1}^{n} var[x_k] = 4np(1-p)$\n",
    "\n",
    "Below we will run N simulations of a random walk and calculate the numerical mean and variance to compare with these theoretical results."
   ]
  },
  {
   "cell_type": "code",
   "execution_count": null,
   "metadata": {},
   "outputs": [],
   "source": [
    "#This is a python function. It takes inputs:\n",
    "# p: probability of jumping up (+1)\n",
    "# tmax: number of time steps\n",
    "# N: no. of independent random walks to simulate\n",
    "\n",
    "def SRW(p, tmax, N):\n",
    "    q = 1-p                         #probability of jumping down (-1)\n",
    "    X = np.random.rand(N,tmax)      #samples N x tmax uniform random variables\n",
    "    X[X<p] = 1                      #if unfiform RV below p, then jump up\n",
    "    X[X!=1] = -1                    #else jump down\n",
    "    Y = np.zeros((N,tmax))          #array to store the random walks at each time\n",
    "    for i in range(0, N):           #loop carries out the random walks\n",
    "        X[i][0] = 0                 #start at zero\n",
    "        Y[i,:] = np.cumsum(X[i,:])  #sum the jumps to determine the position at each time\n",
    "    return X, Y"
   ]
  },
  {
   "cell_type": "markdown",
   "metadata": {},
   "source": [
    "Let us test the function and plot the results."
   ]
  },
  {
   "cell_type": "code",
   "execution_count": null,
   "metadata": {
    "scrolled": false
   },
   "outputs": [],
   "source": [
    "#this generates 3 SRWs, over 100 time steps, with probability of jumping up = 0.6\n",
    "tmax = 100\n",
    "N_sim = 3\n",
    "p = 0.6\n",
    "S = SRW(p, tmax, N_sim)\n",
    "\n",
    "#matplotlib inline\n",
    "font = {'family' : 'normal',\n",
    "        'size'   : 22}\n",
    "import matplotlib\n",
    "matplotlib.rc('font', **font)\n",
    "plt.figure(figsize = (20,8))\n",
    "plt.grid()\n",
    "for k in range(0, N_sim):\n",
    "    plt.plot(range(tmax), S[1][k,:], label = 'Sim run: {}'.format(k+1))\n",
    "    plt.xlabel('Time')\n",
    "    plt.ylabel('State')\n",
    "    plt.legend()\n"
   ]
  },
  {
   "cell_type": "markdown",
   "metadata": {},
   "source": [
    "Now lets calculate some empirical averages/standard deviations (at each time step, across the number of simulations) to compare against the theoretical results."
   ]
  },
  {
   "cell_type": "code",
   "execution_count": null,
   "metadata": {},
   "outputs": [],
   "source": [
    "average = np.mean(S[1], axis = 0)\n",
    "std = np.std(S[1], axis = 0)\n",
    "theoretical_average = [n*((2*p)-1) for n in range(tmax)]\n",
    "theoretical_std = [np.sqrt(4*n*p*(1-p)) for n in range(tmax)]"
   ]
  },
  {
   "cell_type": "code",
   "execution_count": null,
   "metadata": {},
   "outputs": [],
   "source": [
    "#now plot\n",
    "shift = 0.5 #to display difference between error bars\n",
    "\n",
    "plt.figure(figsize = (20,8))\n",
    "plt.errorbar(np.linspace(0,tmax-1,tmax)+shift, theoretical_average, yerr = theoretical_std, ecolor = 'red', color = 'black', alpha = 0.8,  label = \"Theoretical mean with std\")\n",
    "plt.errorbar(np.linspace(0,tmax-1,tmax), average, yerr = std, ecolor = 'blue',  linewidth = 2, label = \"Empirical mean with std\")\n",
    "plt.title(\"Empirical average over {} realisations of SRW with error bars\".format(N_sim))\n",
    "plt.xlabel(\"Time\")\n",
    "plt.ylabel(\"Average position\")\n",
    "plt.legend(loc = 'upper left')\n",
    "plt.grid()"
   ]
  },
  {
   "cell_type": "markdown",
   "metadata": {},
   "source": [
    "Now run for many more simulations (to see empirical values approach the theoretical values)."
   ]
  },
  {
   "cell_type": "code",
   "execution_count": null,
   "metadata": {},
   "outputs": [],
   "source": [
    "#run function\n",
    "tmax = 100\n",
    "N_sim = 1000\n",
    "p = 0.5\n",
    "S = SRW(p, tmax, N_sim)\n",
    "\n",
    "average = np.mean(S[1], axis = 0)\n",
    "std = np.std(S[1], axis = 0)\n",
    "theoretical_average = [n*((2*p)-1) for n in range(tmax)]\n",
    "theoretical_std = [np.sqrt(4*n*p*(1-p)) for n in range(tmax)]\n",
    "\n",
    "plt.figure(figsize = (20,8))\n",
    "plt.errorbar(np.linspace(0,tmax-1,tmax)+shift, theoretical_average, yerr = theoretical_std, ecolor = 'red', color = 'black', alpha = 0.8,  label = \"Theoretical mean with std\")\n",
    "plt.errorbar(np.linspace(0,tmax-1,tmax), average, yerr = std, ecolor = 'blue',  linewidth = 2, label = \"Empirical mean with std\")\n",
    "plt.title(\"Empirical average over {} realisations of SRW with error bars\".format(N_sim))\n",
    "plt.xlabel(\"Time\")\n",
    "plt.ylabel(\"Average position\")\n",
    "plt.legend(loc = 'upper left')\n",
    "plt.grid()\n"
   ]
  },
  {
   "cell_type": "markdown",
   "metadata": {},
   "source": [
    "Next let us plot the distribution of the positions at different time steps to see how they change over time. "
   ]
  },
  {
   "cell_type": "code",
   "execution_count": null,
   "metadata": {
    "scrolled": false
   },
   "outputs": [],
   "source": [
    "time1 = 10\n",
    "time2 = 100\n",
    "\n",
    "plt.figure(figsize = (20,8))\n",
    "\n",
    "plt.subplot(1,2,1)\n",
    "plt.title('Empirical Distribution at time step 10')\n",
    "plt.grid()\n",
    "sns.distplot(SS[1][:,time1-1],bins = len(np.unique(SS[1][:,time1-1])),kde=False)\n",
    "\n",
    "\n",
    "plt.subplot(1,2,2)\n",
    "plt.title('Empirical Distribution at time step 100')\n",
    "plt.grid()\n",
    "sns.distplot(SS[1][:,time2-1],bins = len(np.unique(SS[1][:,time2-1])),kde=False)\n"
   ]
  },
  {
   "cell_type": "markdown",
   "metadata": {},
   "source": [
    "It is possible to fit a Gaussian distribution to the histogram too (see: https://docs.scipy.org/doc/scipy/reference/generated/scipy.stats.norm.html)"
   ]
  },
  {
   "cell_type": "code",
   "execution_count": null,
   "metadata": {},
   "outputs": [],
   "source": [
    "plt.figure(figsize = (20,8))\n",
    "\n",
    "plt.subplot(1,2,1)\n",
    "plt.title('Empirical Distribution at time step 10')\n",
    "plt.grid()\n",
    "sns.distplot(SS[1][:,time1-1],bins = len(np.unique(SS[1][:,time1-1])))\n",
    "\n",
    "\n",
    "plt.subplot(1,2,2)\n",
    "plt.title('Empirical Distribution at time step 100')\n",
    "plt.grid()\n",
    "sns.distplot(SS[1][:,time2-1],bins = len(np.unique(SS[1][:,time2-1])))"
   ]
  },
  {
   "cell_type": "code",
   "execution_count": null,
   "metadata": {},
   "outputs": [],
   "source": []
  }
 ],
 "metadata": {
  "kernelspec": {
   "display_name": "Python 3",
   "language": "python",
   "name": "python3"
  },
  "language_info": {
   "codemirror_mode": {
    "name": "ipython",
    "version": 3
   },
   "file_extension": ".py",
   "mimetype": "text/x-python",
   "name": "python",
   "nbconvert_exporter": "python",
   "pygments_lexer": "ipython3",
   "version": "3.7.3"
  }
 },
 "nbformat": 4,
 "nbformat_minor": 2
}
