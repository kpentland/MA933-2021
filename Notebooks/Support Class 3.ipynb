{
 "cells": [
  {
   "cell_type": "markdown",
   "metadata": {},
   "source": [
    "# Support Class 3 - Problem sheet 2"
   ]
  },
  {
   "cell_type": "code",
   "execution_count": null,
   "metadata": {},
   "outputs": [],
   "source": [
    "# Load some packages \n",
    "# (if you get an error, you need to install the package in the terminal)\n",
    "import numpy as np                #scientific computing\n",
    "from scipy.stats import lognorm   #for probability distributions\n",
    "import scipy.linalg               #for e'values/vectors\n",
    "import matplotlib.pyplot as plt   #plotting\n",
    "import seaborn as sns             #helps with data manipulation/plotting\n",
    "import math                       #calculating exponentials below"
   ]
  },
  {
   "cell_type": "markdown",
   "metadata": {},
   "source": [
    "#### Question 1 (a)"
   ]
  },
  {
   "cell_type": "markdown",
   "metadata": {},
   "source": [
    "Given a matrix $A \\in \\mathbb{R}^{n \\times n}$, the Gershgorin disk theorem states that all eigenvalues lie in at least one Gershogorin disk $D_i$ such that each disk is centered on $a_{i,i}$ with radius $R_i = \\sum_{j \\neq i} a_{i,j}$."
   ]
  },
  {
   "cell_type": "markdown",
   "metadata": {},
   "source": [
    "First define a transition matrix P for the SRW on $\\{1,2,3,4,5\\}$ with periodic BCs. "
   ]
  },
  {
   "cell_type": "code",
   "execution_count": null,
   "metadata": {
    "scrolled": false
   },
   "outputs": [],
   "source": [
    "# define SRW jump probabilities. \n",
    "p = 0.5\n",
    "q = 1-p\n",
    "\n",
    "P = np.array([[0,p,0,0,q],[q,0,p,0,0],[0,q,0,p,0],[0,0,q,0,p],[p,0,0,q,0]])\n",
    "print(P)"
   ]
  },
  {
   "cell_type": "markdown",
   "metadata": {},
   "source": [
    "Next find the centres of each disk and their respective radii (all row sums are equal to 1, hence the radii will all be 1)."
   ]
  },
  {
   "cell_type": "code",
   "execution_count": null,
   "metadata": {},
   "outputs": [],
   "source": [
    "centers = np.diagonal(P)\n",
    "radii = np.sum(P,axis = 1) - centers\n",
    "print(centers)\n",
    "print(radii)"
   ]
  },
  {
   "cell_type": "markdown",
   "metadata": {},
   "source": [
    "Calculate the eigenvalues of P."
   ]
  },
  {
   "cell_type": "code",
   "execution_count": null,
   "metadata": {},
   "outputs": [],
   "source": [
    "evals,evecs = np.linalg.eig(P)\n",
    "print(evals)"
   ]
  },
  {
   "cell_type": "markdown",
   "metadata": {},
   "source": [
    "Plot the Gershgorin disks and the eigenvalues (note how all e'vaues lie in all the disks in this case)."
   ]
  },
  {
   "cell_type": "code",
   "execution_count": null,
   "metadata": {},
   "outputs": [],
   "source": [
    "plt.figure(figsize = (8,8))\n",
    "for i in range(5):\n",
    "    c1 = plt.Circle((np.real(centers[i]),np.imag(centers[i])), radii[i])\n",
    "    plt.gca().add_patch(c1)\n",
    "    plt.plot(np.real(evals[i]),np.imag(evals[i]),'kx',mew=3,ms=10)\n",
    "lim=1.1\n",
    "plt.xlabel(\"Real axis\")\n",
    "plt.ylabel(\"Imaginary axis\")\n",
    "plt.xlim(-lim,lim)\n",
    "plt.ylim(-lim,lim)\n",
    "plt.grid()\n"
   ]
  },
  {
   "cell_type": "markdown",
   "metadata": {},
   "source": [
    "#### Question 1 (b)\n",
    "Next we look at the Lazy version of this Markov chain, where we alter the transition matrix $P$ to be $P^{\\varepsilon}$:\n",
    "\n",
    "$$ p^{\\varepsilon} (x,y) = \\varepsilon \\delta_{x,y} + (1 - \\varepsilon) p(x,y).  $$"
   ]
  },
  {
   "cell_type": "code",
   "execution_count": null,
   "metadata": {
    "scrolled": true
   },
   "outputs": [],
   "source": [
    "# define SRW jump probabilities. \n",
    "p = 0.5\n",
    "q = 1-p\n",
    "ε = 0.75\n",
    "\n",
    "P = np.array([[0,p,0,0,q],[q,0,p,0,0],[0,q,0,p,0],[0,0,q,0,p],[p,0,0,q,0]])\n",
    "\n",
    "P_eps = ε*np.eye(len(P)) + (1-ε)*P\n",
    "\n",
    "print(P_eps)"
   ]
  },
  {
   "cell_type": "markdown",
   "metadata": {},
   "source": [
    "Follow the same process laid out in the previous part."
   ]
  },
  {
   "cell_type": "code",
   "execution_count": null,
   "metadata": {},
   "outputs": [],
   "source": [
    "centers = np.diagonal(P_eps)\n",
    "radii = np.sum(P_eps,axis = 1) - centers\n",
    "print(centers)\n",
    "print(radii)"
   ]
  },
  {
   "cell_type": "code",
   "execution_count": null,
   "metadata": {},
   "outputs": [],
   "source": [
    "evals,evecs = np.linalg.eig(P_eps)\n",
    "print(evals)"
   ]
  },
  {
   "cell_type": "code",
   "execution_count": null,
   "metadata": {},
   "outputs": [],
   "source": [
    "plt.figure(figsize = (8,8))\n",
    "for i in range(5):\n",
    "    c1 = plt.Circle((np.real(centers[i]),np.imag(centers[i])), radii[i])\n",
    "    plt.gca().add_patch(c1)\n",
    "    plt.plot(np.real(evals[i]),np.imag(evals[i]),'kx',mew=3,ms=10)\n",
    "plt.xlabel(\"Real axis\")\n",
    "plt.ylabel(\"Imaginary axis\")\n",
    "plt.ylim(-0.5,0.5)\n",
    "plt.xlim(0.4,1.4)\n",
    "plt.grid()\n"
   ]
  },
  {
   "cell_type": "markdown",
   "metadata": {},
   "source": [
    "#### Question 1 (c)(ii)\n",
    "Compute the eigenvalues of the seven-state MC with transition matrix:"
   ]
  },
  {
   "cell_type": "code",
   "execution_count": null,
   "metadata": {},
   "outputs": [],
   "source": [
    "P = np.array([[0,0,0.5,0.25,0.25,0,0],[0,0,1/3,0,2/3,0,0],[0,0,0,0,0,1/3,2/3],[0,0,0,0,0,0.5,0.5],[0,0,0,0,0,0.75,0.25],[0.5,0.5,0,0,0,0,0],[0.25,0.75,0,0,0,0,0]])\n",
    "print(P)"
   ]
  },
  {
   "cell_type": "code",
   "execution_count": null,
   "metadata": {},
   "outputs": [],
   "source": [
    "evals,evecs = scipy.linalg.eig(P,left=True,right=False)\n",
    "print(evals)"
   ]
  },
  {
   "cell_type": "markdown",
   "metadata": {},
   "source": [
    "Find the e'value equal to one, and then the corresponding e'vector is the stationary distribution."
   ]
  },
  {
   "cell_type": "code",
   "execution_count": null,
   "metadata": {},
   "outputs": [],
   "source": [
    "index = np.where(np.round(np.real(evals)) == 1)\n",
    "stationary = evecs[:,index]\n",
    "print(stationary)"
   ]
  },
  {
   "cell_type": "markdown",
   "metadata": {},
   "source": [
    "Scale the e'vector to obtain the stationary distribution. "
   ]
  },
  {
   "cell_type": "code",
   "execution_count": null,
   "metadata": {},
   "outputs": [],
   "source": [
    "stationary = np.abs(np.real(stationary))/np.sum(np.abs(np.real(stationary)))\n",
    "print(stationary)"
   ]
  },
  {
   "cell_type": "markdown",
   "metadata": {},
   "source": [
    "#### Question 1 (c)(iii)\n",
    "Simulate the DTMC above by adapting the code from last week:"
   ]
  },
  {
   "cell_type": "code",
   "execution_count": null,
   "metadata": {},
   "outputs": [],
   "source": [
    "#This is a python function for simulating the RW. It takes inputs:\n",
    "# P: transistion matrix (7 by 7)\n",
    "# tmax: number of time steps\n",
    "# N: no. of independent random walks to simulate\n",
    "# IC: initial starting position for each of the chains (array of length N)\n",
    "\n",
    "def SevenStateMC(P, tmax, N, IC):\n",
    "    Y = np.zeros((N,tmax))          #array to store the state of the MC at each time for each realisation\n",
    "    Y[:,0] = IC                     #initialise all realisations\n",
    "    \n",
    "    #simulate the chain for each time step in a loop\n",
    "    for j in range(0,tmax-1):\n",
    "        #these indexes finds out where the current state is (for each realisation)\n",
    "        state1 = (Y[:,j] == 1)\n",
    "        state2 = (Y[:,j] == 2)\n",
    "        state3 = (Y[:,j] == 3)\n",
    "        state4 = (Y[:,j] == 4)\n",
    "        state5 = (Y[:,j] == 5)\n",
    "        state6 = (Y[:,j] == 6)\n",
    "        state7 = (Y[:,j] == 7)\n",
    "        \n",
    "        #next we randomly sample from choices [1,...,7] with probability for each given by the row of the current state j\n",
    "        # (we do this N times, where N is the number of states currently in state j)\n",
    "        # i.e. at t = 0, suppose all realisations are in state 1, therefore we sample N times \n",
    "        # with probabilities given by the first row of P. \n",
    "        r1 = np.random.choice([1,2,3,4,5,6,7],sum(state1),replace=True,p = P[0,:])\n",
    "        r2 = np.random.choice([1,2,3,4,5,6,7],sum(state2),replace=True,p = P[1,:])\n",
    "        r3 = np.random.choice([1,2,3,4,5,6,7],sum(state3),replace=True,p = P[2,:])\n",
    "        r4 = np.random.choice([1,2,3,4,5,6,7],sum(state4),replace=True,p = P[3,:])\n",
    "        r5 = np.random.choice([1,2,3,4,5,6,7],sum(state5),replace=True,p = P[4,:])\n",
    "        r6 = np.random.choice([1,2,3,4,5,6,7],sum(state6),replace=True,p = P[5,:])\n",
    "        r7 = np.random.choice([1,2,3,4,5,6,7],sum(state7),replace=True,p = P[6,:])\n",
    "        \n",
    "        #now we advance each of the states at time j, to the new states at time j+1\n",
    "        Y[state1,j+1] = r1\n",
    "        Y[state2,j+1] = r2\n",
    "        Y[state3,j+1] = r3\n",
    "        Y[state4,j+1] = r4\n",
    "        Y[state5,j+1] = r5\n",
    "        Y[state6,j+1] = r6\n",
    "        Y[state7,j+1] = r7\n",
    "        \n",
    "    return Y"
   ]
  },
  {
   "cell_type": "code",
   "execution_count": null,
   "metadata": {},
   "outputs": [],
   "source": [
    "#now we can answer the question (run the function) and plot the empirical distributions vs. the theoretical\n",
    "tmax = 1000\n",
    "N = 100\n",
    "IC = np.ones(N)\n",
    "#IC = np.random.choice([1,2,3,4,5,6,7],N,replace=True)\n",
    "\n",
    "\n",
    "Y = SevenStateMC(P,tmax,N,IC)"
   ]
  },
  {
   "cell_type": "code",
   "execution_count": null,
   "metadata": {},
   "outputs": [],
   "source": [
    "time = 200\n",
    "\n",
    "plt.figure(figsize = (8,4))\n",
    "plt.title('Empirical dist. at time 200')\n",
    "plt.grid()\n",
    "sns.distplot(Y[:,time-1],bins = [0.75,1.25,1.75,2.25,2.75,3.25,3.75,4.25,4.75,5.25,5.75,6.25,6.75,7.25],kde=False)\n",
    "plt.xticks([1,2,3,4,5,6,7])\n",
    "plt.xlabel(\"State\")\n",
    "plt.ylabel(\"Frequency\")\n",
    "plt.show()"
   ]
  },
  {
   "cell_type": "code",
   "execution_count": null,
   "metadata": {},
   "outputs": [],
   "source": [
    "time = 400\n",
    "\n",
    "plt.figure(figsize = (8,4))\n",
    "plt.title('Empirical dist. at time 400')\n",
    "plt.grid()\n",
    "sns.distplot(Y[:,time-1],bins = [0.75,1.25,1.75,2.25,2.75,3.25,3.75,4.25,4.75,5.25,5.75,6.25,6.75,7.25],kde=False)\n",
    "plt.xticks([1,2,3,4,5,6,7])\n",
    "plt.xlabel(\"State\")\n",
    "plt.ylabel(\"Frequency\")\n",
    "plt.show()"
   ]
  },
  {
   "cell_type": "code",
   "execution_count": null,
   "metadata": {
    "scrolled": true
   },
   "outputs": [],
   "source": [
    "time = 600\n",
    "\n",
    "plt.figure(figsize = (8,4))\n",
    "plt.title('Empirical dist. at time 600')\n",
    "plt.grid()\n",
    "sns.distplot(Y[:,time-1],bins = [0.75,1.25,1.75,2.25,2.75,3.25,3.75,4.25,4.75,5.25,5.75,6.25,6.75,7.25],kde=False)\n",
    "plt.xticks([1,2,3,4,5,6,7])\n",
    "plt.xlabel(\"State\")\n",
    "plt.ylabel(\"Frequency\")\n",
    "plt.show()"
   ]
  },
  {
   "cell_type": "code",
   "execution_count": null,
   "metadata": {},
   "outputs": [],
   "source": [
    "time = 800\n",
    "\n",
    "plt.figure(figsize = (8,4))\n",
    "plt.title('Empirical dist. at time 800')\n",
    "plt.grid()\n",
    "sns.distplot(Y[:,time-1],bins = [0.75,1.25,1.75,2.25,2.75,3.25,3.75,4.25,4.75,5.25,5.75,6.25,6.75,7.25],kde=False)\n",
    "plt.xticks([1,2,3,4,5,6,7])\n",
    "plt.xlabel(\"State\")\n",
    "plt.ylabel(\"Frequency\")\n",
    "plt.show()"
   ]
  },
  {
   "cell_type": "code",
   "execution_count": null,
   "metadata": {},
   "outputs": [],
   "source": [
    "time = 1000\n",
    "\n",
    "plt.figure(figsize = (8,4))\n",
    "plt.title('Empirical dist. at time 1000')\n",
    "plt.grid()\n",
    "sns.distplot(Y[:,time-1],bins = [0.75,1.25,1.75,2.25,2.75,3.25,3.75,4.25,4.75,5.25,5.75,6.25,6.75,7.25],kde=False)\n",
    "plt.xticks([1,2,3,4,5,6,7])\n",
    "plt.xlabel(\"State\")\n",
    "plt.ylabel(\"Frequency\")\n",
    "plt.show()"
   ]
  },
  {
   "cell_type": "markdown",
   "metadata": {},
   "source": [
    "So the chain jumps around between multiple subsets of states as time passes. So now lets calculate the propration of time spend in each state up to time $1000$. "
   ]
  },
  {
   "cell_type": "code",
   "execution_count": null,
   "metadata": {},
   "outputs": [],
   "source": [
    "counts_500secs = np.zeros(7)\n",
    "counts_1000secs = np.zeros(7)\n",
    "\n",
    "for i in range(0,7):\n",
    "    counts_500secs[i] = (Y[0,0:500] == i+1).sum()\n",
    "    counts_1000secs[i] = (Y[0,0:1000] == i+1).sum()\n",
    "    \n",
    "counts_500secs = counts_500secs/500\n",
    "counts_1000secs = counts_1000secs/1000\n",
    "print(counts_500secs)\n",
    "print(counts_1000secs)"
   ]
  },
  {
   "cell_type": "code",
   "execution_count": null,
   "metadata": {},
   "outputs": [],
   "source": [
    "#Plots of the total time spent in each state.\n",
    "\n",
    "#stationary = np.array([0.1300, 0.2034, 0.1328, 0.0325, 0.1681, 0.1866, 0.1468])\n",
    "plt.figure(figsize = (16,8))\n",
    "\n",
    "plt.subplot(1,2,1)\n",
    "plt.bar(range(1,8), counts_500secs, width=0.8, bottom=None,  align='center', data=None )\n",
    "plt.scatter(range(1,8),stationary, label = 'Stationary Distribution',zorder=2)\n",
    "# plt.axvline(x=Y_min, color='r', linestyle='--')\n",
    "# plt.axvline(x=Y_max, color='r', linestyle='--')\n",
    "plt.title('Fraction of time spent in each state after 500 time steps')\n",
    "plt.xlabel(\"State\")\n",
    "plt.ylabel(\"Fraction of time spent in each state\")\n",
    "plt.legend(loc = 'upper left')\n",
    "plt.grid()\n",
    "\n",
    "plt.subplot(1,2,2)\n",
    "plt.bar(range(1,8), counts_1000secs, width=0.8, bottom=None,  align='center', data=None)\n",
    "plt.scatter(range(1,8),stationary, label = 'Stationary Distribution',zorder=2)\n",
    "# plt.axvline(x=Y_min, color='r', linestyle='--')\n",
    "# plt.axvline(x=Y_max, color='r', linestyle='--')\n",
    "plt.title('Fraction of time spent in each state after 1000 time steps')\n",
    "plt.xlabel(\"State\")\n",
    "plt.ylabel(\"Fraction of time spent in each state\")\n",
    "plt.legend(loc = 'upper left')\n",
    "plt.grid()\n"
   ]
  },
  {
   "cell_type": "markdown",
   "metadata": {},
   "source": [
    "#### Question 2 (d) - Geometric Random Walk\n",
    "Here we're going to define a function (much like notebook 1) that simulates N realisations of the Geometric Random Walk (GRW). Each walk will have initial position 1."
   ]
  },
  {
   "cell_type": "code",
   "execution_count": null,
   "metadata": {},
   "outputs": [],
   "source": [
    "#Inputs:\n",
    "# μ: mean of the (iid) Gaussian random variables\n",
    "# σ: standard deviation of the (iid) Gaussian random variables\n",
    "# tmax: number of time steps\n",
    "# N: no. of independent random walks to simulate\n",
    "\n",
    "def GRW(μ, σ, tmax, N):\n",
    "\n",
    "    X = np.random.normal(μ,σ,(N,tmax))  #samples N x tmax Gaussian random variables\n",
    "    Z = np.zeros((N,tmax))              #array to store the random walks at each time\n",
    "    Z[:,0] = 1                          #start each walk from 1\n",
    "    for i in range(0, tmax-1):          #loop carries out the random walks over time\n",
    "        Z[:,i+1] = np.multiply(Z[:,i],np.exp(X[:,i]))\n",
    "    return Z"
   ]
  },
  {
   "cell_type": "markdown",
   "metadata": {},
   "source": [
    "Let us test the function and plot the results."
   ]
  },
  {
   "cell_type": "code",
   "execution_count": null,
   "metadata": {},
   "outputs": [],
   "source": [
    "#this generates 3 SRWs, over 100 time steps, with μ = 0 and σ = 0.2.\n",
    "μ = 0\n",
    "σ = 0.2\n",
    "tmax = 100\n",
    "N = 3\n",
    "Z = GRW(μ,σ,tmax,N)\n",
    "\n",
    "#matplotlib inline\n",
    "plt.figure(figsize = (12,8))\n",
    "plt.grid()\n",
    "for k in range(0, N):\n",
    "    plt.plot(range(tmax), Z[k,:], label = 'Sim run: {}'.format(k+1))\n",
    "    plt.xlabel('Time')\n",
    "    plt.ylabel('State')\n",
    "    plt.legend()\n"
   ]
  },
  {
   "cell_type": "markdown",
   "metadata": {},
   "source": [
    "Now to answer the question: simulating 500 realisations with 100 time steps."
   ]
  },
  {
   "cell_type": "code",
   "execution_count": null,
   "metadata": {},
   "outputs": [],
   "source": [
    "μ = 0\n",
    "σ = 0.2\n",
    "tmax = 100\n",
    "N = 500\n",
    "ZZ = GRW(μ,σ,tmax,N)\n",
    "\n",
    "#matplotlib inline\n",
    "plt.figure(figsize = (12,8))\n",
    "plt.grid()\n",
    "for k in range(0, N):\n",
    "    plt.plot(range(tmax), ZZ[k,:])\n",
    "    plt.xlabel('Time')\n",
    "    plt.ylabel('State')"
   ]
  },
  {
   "cell_type": "markdown",
   "metadata": {},
   "source": [
    "First we plot the empirical average (as a function of time n):\n",
    "    \n",
    "$$ \\hat{\\mu}_n = \\frac{1}{N} \\sum_{i=1}^M Z_n^{i}. $$"
   ]
  },
  {
   "cell_type": "code",
   "execution_count": null,
   "metadata": {},
   "outputs": [],
   "source": [
    "average = np.mean(ZZ, axis = 0)\n",
    "std = np.std(ZZ, axis = 0)\n",
    "\n",
    "theoretical_average = [math.exp(n*μ + (n*σ**2)/2) for n in range(tmax)]\n",
    "theoretical_std = [math.exp((n*(σ**2)) - 1)*math.exp(2*n*μ + n*(σ**2)) for n in range(tmax)]"
   ]
  },
  {
   "cell_type": "code",
   "execution_count": null,
   "metadata": {},
   "outputs": [],
   "source": [
    "#now plot\n",
    "shift = 0.5 #to display difference between error bars\n",
    "\n",
    "plt.figure(figsize = (12,8))\n",
    "plt.errorbar(np.linspace(0,tmax-1,tmax)+shift, theoretical_average, yerr = theoretical_std, ecolor = 'red', color = 'black', alpha = 0.8,  label = \"Theoretical mean with std\")\n",
    "plt.errorbar(np.linspace(0,tmax-1,tmax), average, yerr = std, ecolor = 'blue',  linewidth = 2, label = \"Empirical mean with std\")\n",
    "plt.title(\"Empirical average over {} realisations of SRW with error bars\".format(N))\n",
    "plt.xlabel(\"Time\")\n",
    "plt.ylabel(\"Average position\")\n",
    "plt.ylim((-10,10))\n",
    "plt.legend(loc = 'upper left')\n",
    "plt.grid()"
   ]
  },
  {
   "cell_type": "markdown",
   "metadata": {},
   "source": [
    "At $n=10$ and $n=100$ produce histograms of the distribution of walks, plot the kernel density estimate (i.e. an empirical pdf curve), and compare to the theoretical distribution."
   ]
  },
  {
   "cell_type": "code",
   "execution_count": null,
   "metadata": {},
   "outputs": [],
   "source": [
    "time1 = 10\n",
    "time2 = 100\n",
    "\n",
    "# for theoretical pdfs\n",
    "x1 = np.linspace(lognorm.ppf(0.01, np.sqrt(time1)*σ, time1*μ),lognorm.ppf(0.99, np.sqrt(time1)*σ,time1*μ), 100)\n",
    "x2 = np.linspace(lognorm.ppf(0.01, np.sqrt(time2)*σ, time2*μ),lognorm.ppf(0.99, np.sqrt(time2)*σ,time2*μ), 100)\n",
    "\n",
    "plt.figure(figsize = (12,8))\n",
    "\n",
    "plt.subplot(1,2,1)\n",
    "plt.title('Empirical dist. at time 10')\n",
    "plt.grid()\n",
    "sns.distplot(ZZ[:,time1-1],bins = np.arange(np.min(ZZ[:,time1-1])-0.5,np.max(ZZ[:,time1-1])+0.5,1),kde=True,label='Empirical KDE')\n",
    "plt.plot(x1, lognorm.pdf(x1, np.sqrt(time1)*σ, time1*μ),'r-', label='Theoretical PDF')\n",
    "plt.legend()\n",
    "plt.xlabel('State')\n",
    "plt.ylabel('Density')\n",
    "\n",
    "plt.subplot(1,2,2)\n",
    "plt.title('Empirical dist. at time 100')\n",
    "plt.grid()\n",
    "sns.distplot(ZZ[:,time2-1],bins = np.arange(np.min(ZZ[:,time2-1])-0.5,np.max(ZZ[:,time2-1])+0.5,1),kde=True,label='Empirical KDE')\n",
    "plt.plot(x2, lognorm.pdf(x2, np.sqrt(time2)*σ, time2*μ),'r-', label='Theoretical PDF')\n",
    "plt.legend()\n",
    "plt.ylim(0,0.4)\n",
    "plt.xlabel('State')\n",
    "plt.ylabel('Density')"
   ]
  },
  {
   "cell_type": "markdown",
   "metadata": {},
   "source": [
    "For a single realisation, we now plot the ergodic average:\n",
    "\n",
    "$$ \\bar{\\mu}_T = \\frac{1}{T} \\sum_{n=1}^T Z_n. $$"
   ]
  },
  {
   "cell_type": "code",
   "execution_count": null,
   "metadata": {},
   "outputs": [],
   "source": [
    "ergodic_avg = np.cumsum(ZZ[0,:])\n",
    "\n",
    "plt.figure(figsize = (12,8))\n",
    "plt.plot(range(0,tmax), ergodic_avg)\n",
    "plt.xlabel(\"Time (T)\")\n",
    "plt.ylabel(\"Ergodic average\")\n",
    "plt.grid()\n"
   ]
  },
  {
   "cell_type": "code",
   "execution_count": null,
   "metadata": {},
   "outputs": [],
   "source": []
  }
 ],
 "metadata": {
  "kernelspec": {
   "display_name": "Python 3",
   "language": "python",
   "name": "python3"
  },
  "language_info": {
   "codemirror_mode": {
    "name": "ipython",
    "version": 3
   },
   "file_extension": ".py",
   "mimetype": "text/x-python",
   "name": "python",
   "nbconvert_exporter": "python",
   "pygments_lexer": "ipython3",
   "version": "3.7.3"
  }
 },
 "nbformat": 4,
 "nbformat_minor": 2
}
