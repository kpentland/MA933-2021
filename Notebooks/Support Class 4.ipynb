{
 "cells": [
  {
   "cell_type": "markdown",
   "metadata": {},
   "source": [
    "# Support Class 4 - Problem sheet 3"
   ]
  },
  {
   "cell_type": "code",
   "execution_count": null,
   "metadata": {},
   "outputs": [],
   "source": [
    "# Load some packages \n",
    "# (if you get an error, you need to install the package in the terminal)\n",
    "import numpy as np                #scientific computing\n",
    "from scipy.stats import multivariate_normal   #for probability distributions\n",
    "from scipy.stats import norm                   #for probability distributions\n",
    "import scipy.linalg               #for e'values/vectors\n",
    "import matplotlib.pyplot as plt   #plotting\n",
    "import seaborn as sns             #helps with data manipulation/plotting\n",
    "import math                       #calculating exponentials below"
   ]
  },
  {
   "cell_type": "markdown",
   "metadata": {},
   "source": [
    "#### Question 2"
   ]
  },
  {
   "cell_type": "markdown",
   "metadata": {},
   "source": [
    "Consider the CTMC from Problem 2 in Assignment 1, i.e. $(X(t):t \\geq 0)$ with generator matrix:"
   ]
  },
  {
   "cell_type": "code",
   "execution_count": null,
   "metadata": {
    "scrolled": false
   },
   "outputs": [],
   "source": [
    "G = np.array([[-2,1,1],[1,-4,3],[0,1,-1]])\n",
    "print(G)"
   ]
  },
  {
   "cell_type": "markdown",
   "metadata": {},
   "source": [
    "Suppose the state space of this chain is $S=\\{1,2,3\\}$. We will use the algorithm from the lectures to generate paths of this CTMC.\n",
    "\n",
    "First calculate the transition probalities:\n",
    "\n",
    "$$p^Y(x,y) = (1 - \\delta_{x,y}) \\frac{g(x,y)}{|g(x,x)|} .$$"
   ]
  },
  {
   "cell_type": "code",
   "execution_count": null,
   "metadata": {
    "scrolled": true
   },
   "outputs": [],
   "source": [
    "diag_G = np.abs(np.diag(G))\n",
    "P = np.eye(3,3) + G / diag_G[:,None]    # G / diag_G[:,None] divides row i by the (i,i) element\n",
    "print(P)"
   ]
  },
  {
   "cell_type": "markdown",
   "metadata": {},
   "source": [
    "Simulate the CTMC by adapting the code from last week:"
   ]
  },
  {
   "cell_type": "code",
   "execution_count": null,
   "metadata": {},
   "outputs": [],
   "source": [
    "#This function for simulates a CTMC. It takes inputs:\n",
    "# G: generator matrix (3 x 3)\n",
    "# tmax: final run time (Starting at t = 0)\n",
    "# IC: initial starting position the chain\n",
    "\n",
    "def ThreeStateCTMC(G, tmax, IC):\n",
    "    Y = np.array([IC])      #initialise the MC (state vector)\n",
    "    J = np.array([0])       #initialise time at t = 0 (jump times vector)\n",
    "\n",
    "    #calculate the transition matrix\n",
    "    diag_G = np.abs(np.diag(G))\n",
    "    P = np.eye(3,3) + G / diag_G[:,None]\n",
    "\n",
    "    #simulate the chain up until end time\n",
    "    t = 0\n",
    "    while t < tmax:\n",
    "        current_state = Y[-1]\n",
    "        \n",
    "        #randomly sample the holding time from the exponential distribution (given the current state)\n",
    "        holding_time = np.random.exponential(np.abs(G[current_state-1,current_state-1]))        \n",
    "        \n",
    "        #add holding time to the current time\n",
    "        t = t + holding_time\n",
    "        \n",
    "        #store jump times\n",
    "        J = np.append(J,t)\n",
    "\n",
    "        #randomly jump to another state using the transistion matrix\n",
    "        Y = np.append(Y,np.random.choice([1,2,3],1,replace=True,p = P[current_state-1,:]))\n",
    "        \n",
    "\n",
    "\n",
    "    return J, Y"
   ]
  },
  {
   "cell_type": "markdown",
   "metadata": {},
   "source": [
    "Now that we have the function, let's simulate a chain."
   ]
  },
  {
   "cell_type": "code",
   "execution_count": null,
   "metadata": {},
   "outputs": [],
   "source": [
    "#inputs\n",
    "G = np.array([[-2,1,1],[1,-4,3],[0,1,-1]])\n",
    "tmax = 100\n",
    "IC = 2\n",
    "\n",
    "#run function\n",
    "J,Y = ThreeStateCTMC(G, tmax, IC)\n",
    "\n",
    "#plot the jumps \n",
    "\n",
    "#matplotlib inline\n",
    "plt.figure(figsize = (12,8))\n",
    "plt.grid()\n",
    "plt.xlabel('Time')\n",
    "plt.ylabel('State')\n",
    "plt.xlim([0,tmax])\n",
    "plt.ylim([0.8,3.2])\n",
    "plt.yticks([1,2,3])\n",
    "for j in range(0,len(J)-1):\n",
    "    plt.plot([J[j],J[j+1]], [Y[j],Y[j]],'k',lw=2)\n",
    "plt.scatter(J, Y,s=75,color='r')\n"
   ]
  },
  {
   "cell_type": "markdown",
   "metadata": {},
   "source": [
    "#### Question 3(a)\n",
    "\n",
    "Draw 1000 samples from a 2D multivariate (bivariate) Gaussian distribution.\n",
    "\n",
    "Rather than plotting the 2D histogram, I just display the samples in the 2D plane and overlay the theoretical PDF (in the form of contour lines)."
   ]
  },
  {
   "cell_type": "code",
   "execution_count": null,
   "metadata": {
    "scrolled": false
   },
   "outputs": [],
   "source": [
    "#define parameters\n",
    "mu1 = 1\n",
    "mu2 = -1\n",
    "mu = np.array([mu1,mu2])\n",
    "\n",
    "sig11 = 2\n",
    "sig22 = 4\n",
    "rho12 = -0.95  #must be in [0,1]\n",
    "sigma = np.array([[sig11**2,rho12*sig11*sig22],[rho12*sig11*sig22,sig22**2]])\n",
    "\n",
    "samples = np.random.multivariate_normal(mu,sigma,1000)\n",
    "\n",
    "plt.figure(figsize = (8,8))\n",
    "plt.grid()\n",
    "#plt.hist2d(samples[:,0],samples[:,1],bins=50,density=False)\n",
    "plt.scatter(samples[:,0],samples[:,1],s=10)\n",
    "plt.xlabel(\"x1\")\n",
    "plt.ylabel(\"x2\")\n",
    "\n",
    "X1,X2 = np.mgrid[-10:10:.01, -10:10:.01]\n",
    "pos = np.dstack((X1,X2))\n",
    "rv = multivariate_normal(mu,sigma)\n",
    "plt.contour(X1,X2,rv.pdf(pos),colors='r')\n",
    "plt.show()\n"
   ]
  },
  {
   "cell_type": "markdown",
   "metadata": {},
   "source": [
    "Next we can observe the marginal distributions of $X_1$ and $X_2$ respectively - also we can overlay the theoretical marginal distributions. "
   ]
  },
  {
   "cell_type": "code",
   "execution_count": null,
   "metadata": {},
   "outputs": [],
   "source": [
    "# for theoretical pdfs\n",
    "x1 = np.linspace(-10,10, 1000)\n",
    "x2 = np.linspace(-10,10, 1000)\n",
    "\n",
    "\n",
    "\n",
    "plt.figure(figsize = (16,8))\n",
    "\n",
    "plt.subplot(1,2,1)\n",
    "sns.distplot(samples[:,0],kde=False,norm_hist=True,label='Empirical samples')\n",
    "plt.plot(x1,norm.pdf(x1,mu1,sig11),'r', label='Theoretical marginal PDF')\n",
    "plt.title('Marginal dist. of x1')\n",
    "plt.xlabel(\"x1\")\n",
    "plt.ylabel(\"Density\")\n",
    "plt.legend()\n",
    "\n",
    "plt.subplot(1,2,2)\n",
    "sns.distplot(samples[:,1],kde=False,norm_hist=True,label='Empirical samples')\n",
    "plt.plot(x2,norm.pdf(x2,mu2,sig22),'r', label='Theoretical marginal PDF')\n",
    "plt.title('Marginal dist. of x2')\n",
    "plt.xlabel(\"x2\")\n",
    "plt.ylabel(\"Density\")\n",
    "plt.legend()\n"
   ]
  },
  {
   "cell_type": "markdown",
   "metadata": {},
   "source": [
    "#### Question 4(d)\n",
    "\n",
    "For $\\sigma^2=1$, choose $\\mu=-1/2$ and two other values $\\mu<-1/2$ and $\\mu>-1/2$. Simulate and plot a few sample paths of the process with $Y_0=1$ up to time $t=10$, by numerically integrating the corresponding SDE with time steps $\\Delta t=0.1$ and $0.01$.\n",
    "\n",
    "We want to numerically integrate an SDE of the form:\n",
    "\n",
    "$$ d Y_t = a(Y_t,t) dt + b(Y_t,t) dB_t,$$\n",
    "\n",
    "where $a(Y_t,t) = (\\mu + \\sigma^2/2)Y_t$ and $b(Y_t,t) = \\sigma Y_t$."
   ]
  },
  {
   "cell_type": "code",
   "execution_count": null,
   "metadata": {},
   "outputs": [],
   "source": [
    "#input parameters\n",
    "\n",
    "#different mean values (fixed sigma)\n",
    "μ1 = -1\n",
    "μ2 = -0.5\n",
    "μ3 = -0.1\n",
    "σ = 1\n",
    "\n",
    "#initial condition\n",
    "Y0 = 1\n",
    "\n",
    "#maximum time to integrate until\n",
    "tmax = 10\n",
    "\n",
    "#time step\n",
    "dt = 0.1\n",
    "\n",
    "# vector of times\n",
    "times = np.arange(0,tmax,dt) "
   ]
  },
  {
   "cell_type": "markdown",
   "metadata": {},
   "source": [
    "First define functions for both $a(Y_t,t)$ and $b(Y_t,t)$. Note I define three functions for $a(Y_t,t)$ each with a different value for $\\mu$."
   ]
  },
  {
   "cell_type": "code",
   "execution_count": null,
   "metadata": {},
   "outputs": [],
   "source": [
    "def a1(y,t):\n",
    "    return (μ1 + (σ**2)/2)*y\n",
    "\n",
    "def a2(y,t):\n",
    "    return (μ2 + (σ**2)/2)*y\n",
    "\n",
    "def a3(y,t):\n",
    "    return (μ3 + (σ**2)/2)*y\n",
    "\n",
    "def b(y,t):\n",
    "    return σ*y"
   ]
  },
  {
   "cell_type": "markdown",
   "metadata": {},
   "source": [
    "Next we integrate the SDEs using the sdeint library (https://pypi.org/project/sdeint/). You can write your own simple integration functions but this may take some time."
   ]
  },
  {
   "cell_type": "code",
   "execution_count": null,
   "metadata": {},
   "outputs": [],
   "source": [
    "import sdeint #may need to install this on your laptops: sudo pip3 install sdeint\n",
    "\n",
    "#it takes the two functions a and b, the initial condition and the time vector. \n",
    "result1 = sdeint.itoint(a1, b, Y0, times)\n",
    "result2 = sdeint.itoint(a2, b, Y0, times)\n",
    "result3 = sdeint.itoint(a3, b, Y0, times)"
   ]
  },
  {
   "cell_type": "code",
   "execution_count": null,
   "metadata": {},
   "outputs": [],
   "source": [
    "plt.figure(figsize = (15,10))\n",
    "plt.plot(times, result1,'r',label = '$\\mu$ = {}'.format(μ1))\n",
    "plt.plot(times, result2,'g',label = '$\\mu$ = {}'.format(μ2))\n",
    "plt.plot(times, result3,'b',label = '$\\mu$ = {}'.format(μ3))\n",
    "\n",
    "\n",
    "plt.xlabel('$t$', fontsize = 20)\n",
    "plt.ylabel('$Y_t$', fontsize = 20)\n",
    "plt.title('GBM with dt = {}'.format(dt), fontsize = 20)\n",
    "plt.xticks(fontsize = 16)\n",
    "plt.yticks(fontsize = 16)\n",
    "plt.axhline(linewidth=1, color='k')\n",
    "plt.axvline(linewidth=1, color='k')\n",
    "plt.axis([0, tmax,min(min(result1),min(result2),min(result3))-1,max(max(result1),max(result2),max(result3))+1])\n",
    "plt.legend(loc = 'upper right', prop={'size': 16})"
   ]
  },
  {
   "cell_type": "markdown",
   "metadata": {},
   "source": [
    "Change the time step to $\\Delta t = 0.01$."
   ]
  },
  {
   "cell_type": "code",
   "execution_count": null,
   "metadata": {},
   "outputs": [],
   "source": [
    "#time step\n",
    "dt = 0.01\n",
    "\n",
    "# vector of times\n",
    "times = np.arange(0,tmax,dt) "
   ]
  },
  {
   "cell_type": "code",
   "execution_count": null,
   "metadata": {},
   "outputs": [],
   "source": [
    "#it takes the two functions a and b, the initial condition and the time vector. \n",
    "result4 = sdeint.itoint(a1, b, Y0, times)\n",
    "result5 = sdeint.itoint(a2, b, Y0, times)\n",
    "result6 = sdeint.itoint(a3, b, Y0, times)"
   ]
  },
  {
   "cell_type": "code",
   "execution_count": null,
   "metadata": {},
   "outputs": [],
   "source": [
    "plt.figure(figsize = (15,10))\n",
    "plt.plot(times, result4,'r',label = '$\\mu$ = {}'.format(μ1))\n",
    "plt.plot(times, result5,'g',label = '$\\mu$ = {}'.format(μ2))\n",
    "plt.plot(times, result6,'b',label = '$\\mu$ = {}'.format(μ3))\n",
    "\n",
    "\n",
    "plt.xlabel('$t$', fontsize = 20)\n",
    "plt.ylabel('$Y_t$', fontsize = 20)\n",
    "plt.title('GBM with dt = {}'.format(dt), fontsize = 20)\n",
    "plt.xticks(fontsize = 16)\n",
    "plt.yticks(fontsize = 16)\n",
    "plt.axhline(linewidth=1, color='k')\n",
    "plt.axvline(linewidth=1, color='k')\n",
    "plt.axis([0, tmax,min(min(result1),min(result2),min(result3))-1,max(max(result1),max(result2),max(result3))+1])\n",
    "plt.legend(loc = 'upper right', prop={'size': 16})"
   ]
  },
  {
   "cell_type": "markdown",
   "metadata": {},
   "source": [
    "#### Question 5(a)(i) - Fractional Brownian Motion (FBM)\n",
    "\n",
    "Fractal Brownian motion (FBM) is a generalization of Brownian motion such that\n",
    "- increments of FBM need not be independent\n",
    "- FBM is a continuous-time Gaussian process $B_H(t)$ on $[0, T]$\n",
    "- the expectation of $B_H(t)$ is zero for all t in $[0, T]$\n",
    "- the covariance function is given by $\\mathbb{E} \\left( B_H(t) B_H(s) \\right) = \\frac{1}{2} \\left( |t|^{2H} + |s|^{2H} - |t-s|^{2H} \\right) $ where $H \\in (0,1)$ is the Hurst index.\n",
    "- the increment process: $X(t) = B_H(t+1) − B_H(t)$, is known as fractional Gaussian noise (FGN).\n",
    "\n",
    "Note that for the Hurst index: \n",
    "- If $H = 1/2$ then the process is simply a Brownian motion or Wiener process.\n",
    "- If $H > 1/2$ then the increments of the process are positively correlated.\n",
    "- If $H < 1/2$ then the increments of the process are negatively correlated.\n",
    "\n",
    "To simulate FBM, we need to install [fbm](https://pypi.org/project/fbm/) (may need to install locally using `pip install fbm`): \n",
    "- **Fractional Brownian Motion**: Exact methods for simulating FBM or FGN in python.\n",
    "- **Multifractional Brownian Motion**: Approximate simulation of multifractional Brownian motion (mBm) or multifractional Gaussian noise (mGn).\n"
   ]
  },
  {
   "cell_type": "code",
   "execution_count": null,
   "metadata": {},
   "outputs": [],
   "source": [
    "from fbm import FBM"
   ]
  },
  {
   "cell_type": "code",
   "execution_count": null,
   "metadata": {},
   "outputs": [],
   "source": [
    "# n is number of equispaced increments desired for a FBM\n",
    "n = 2500\n",
    "\n",
    "# set Hurst index \n",
    "Hurst = 0.9\n",
    "\n",
    "# set [0,T]\n",
    "T = 1\n",
    "\n",
    "f = FBM(n,Hurst,T,method='daviesharte')\n",
    "# method can either be 'hosking', 'cholesky', or 'daviesharte' (pick any)\n",
    "# Note: can fail if Hurst is close to 1 or n is small\n",
    "\n",
    "# generate a realisationof the FBM \n",
    "fbm_sample = f.fbm()\n",
    "\n",
    "# get the times associated with the fBm\n",
    "t_values = f.times()"
   ]
  },
  {
   "cell_type": "code",
   "execution_count": null,
   "metadata": {},
   "outputs": [],
   "source": [
    "#plot the process\n",
    "plt.figure(figsize=(10,8))\n",
    "plt.plot(t_values, fbm_sample)\n",
    "plt.xlabel('$t$', fontsize = 20)\n",
    "plt.ylabel('$B_H (t)$', fontsize = 20)\n",
    "plt.grid()\n",
    "plt.title(r'FBM with n = {} and Hurst = {}.'.format(n,hurst), fontsize = 20)\n",
    "plt.xticks(fontsize = 16)\n",
    "plt.yticks(fontsize = 16)"
   ]
  },
  {
   "cell_type": "markdown",
   "metadata": {},
   "source": [
    "#### Question 5(a)(ii) - Brownian Bridge (BB)\n",
    "\n",
    "This is a Gaussian process which is \"pinned\" at the same value at the end time as it is at the start. It's essentially a GP with mean function $\\mu(t)=0$ and covariance function $k(s,t) = \\text{min} \\{s,t\\}-ts$.\n"
   ]
  },
  {
   "cell_type": "code",
   "execution_count": null,
   "metadata": {},
   "outputs": [],
   "source": [
    "#vector of time points\n",
    "tmax = 1\n",
    "dt = 0.01\n",
    "times = np.arange(0,tmax+dt,dt) \n",
    "\n",
    "#mean vector\n",
    "μ = np.zeros(len(times))\n",
    "\n",
    "#covariance function (generates covariance matrix)\n",
    "def k(s,t):\n",
    "    grid = np.meshgrid(s,t)\n",
    "    C = np.minimum(grid[0],grid[1]) - np.multiply(grid[0],grid[1])\n",
    "    return C\n",
    "\n",
    "#covariance matrix\n",
    "C = k(times,times)\n",
    "\n",
    "#take a sample from a multivariate Gaussian to simulate the BB process\n",
    "samples = np.random.multivariate_normal(μ,C,1)\n"
   ]
  },
  {
   "cell_type": "code",
   "execution_count": null,
   "metadata": {},
   "outputs": [],
   "source": [
    "#plot the process\n",
    "plt.figure(figsize=(10,8))\n",
    "plt.plot(times,samples[0,:])\n",
    "plt.xlabel('$t$', fontsize = 20)\n",
    "plt.ylabel('$X_t$', fontsize = 20)\n",
    "plt.grid()\n",
    "plt.title(r'Brownian Bridge (ends tied at $X_0=X_T=0$)'.format(n,hurst), fontsize = 20)\n",
    "plt.xticks(fontsize = 16)\n",
    "plt.yticks(fontsize = 16)"
   ]
  },
  {
   "cell_type": "markdown",
   "metadata": {},
   "source": [
    "#### Question 5(b)\n",
    "\n",
    "Simulate a GP of your choice. \n",
    "\n",
    "Use the code above from the BB example to plot a GP with a given mean function and covariance function."
   ]
  },
  {
   "cell_type": "markdown",
   "metadata": {},
   "source": [
    "#### Question 5(c)\n",
    "\n",
    "Consider the Metropolis-Hasting MCMC algorithm (lecture 5, slide 19-20) but with acceptance probability:\n",
    "\n",
    "$$ a(x,y) = \\big( 1 + \\frac{\\pi(c) q(x,y)}{\\pi(y)q(y,x)} \\big)^{-1}.$$\n",
    "\n",
    "Show the scheme is reverisble with respect to $\\pi$. \n",
    "\n",
    "Solution: For this, you just need to show that $\\pi(x)p(x,y) = \\pi(y)p(y,x)$."
   ]
  },
  {
   "cell_type": "code",
   "execution_count": null,
   "metadata": {},
   "outputs": [],
   "source": []
  }
 ],
 "metadata": {
  "kernelspec": {
   "display_name": "Python 3",
   "language": "python",
   "name": "python3"
  },
  "language_info": {
   "codemirror_mode": {
    "name": "ipython",
    "version": 3
   },
   "file_extension": ".py",
   "mimetype": "text/x-python",
   "name": "python",
   "nbconvert_exporter": "python",
   "pygments_lexer": "ipython3",
   "version": "3.7.3"
  }
 },
 "nbformat": 4,
 "nbformat_minor": 2
}
