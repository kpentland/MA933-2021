{
 "cells": [
  {
   "cell_type": "markdown",
   "metadata": {},
   "source": [
    "# Support Class 6 - Problem sheet 5"
   ]
  },
  {
   "cell_type": "markdown",
   "metadata": {},
   "source": [
    "You will probably need to insteall `networkx` on your laptop. Documentation can be found here: [https://networkx.github.io/documentation/stable/index.html](https://networkx.github.io/documentation/stable/index.html) Check out the tutorial page, it should be pretty similar to what you see here. \n",
    "\n",
    "**INSTALL:**\n",
    "- Try `pip install networkx`, `sudo pip install networkx` or with `pip3`\n",
    "- or `pip install --user networkx`"
   ]
  },
  {
   "cell_type": "code",
   "execution_count": null,
   "metadata": {},
   "outputs": [],
   "source": [
    "# Load packages \n",
    "import networkx as nx\n",
    "import matplotlib.pyplot as plt\n",
    "import numpy as np\n",
    "from scipy import stats"
   ]
  },
  {
   "cell_type": "markdown",
   "metadata": {},
   "source": [
    "### Introduction to Networkx"
   ]
  },
  {
   "cell_type": "markdown",
   "metadata": {},
   "source": [
    "First we create an empty graph G."
   ]
  },
  {
   "cell_type": "code",
   "execution_count": null,
   "metadata": {
    "scrolled": true
   },
   "outputs": [],
   "source": [
    "G = nx.Graph()"
   ]
  },
  {
   "cell_type": "markdown",
   "metadata": {},
   "source": [
    "Then we can add edges (in this case from nodes labeled 1,2,3, and 4). The nodes can be given other names if wanted - see package."
   ]
  },
  {
   "cell_type": "code",
   "execution_count": null,
   "metadata": {
    "scrolled": false
   },
   "outputs": [],
   "source": [
    "G.add_edge('1','2')\n",
    "G.add_edge('1','3')\n",
    "G.add_edge('2','3')\n",
    "G.add_edge('1','4')\n",
    "G.add_edge('3','4')\n",
    "G.add_edge('2','4')\n",
    "\n",
    "plt.figure(figsize = (12,12))\n",
    "pos=nx.circular_layout(G)\n",
    "nx.draw_networkx(G, pos = pos, with_labels = True, node_color = 'yellow',node_size=1000, font_size=16, width=5) \n",
    "plt.axis('off');"
   ]
  },
  {
   "cell_type": "markdown",
   "metadata": {},
   "source": [
    "Or we can add a bunch of nodes."
   ]
  },
  {
   "cell_type": "code",
   "execution_count": null,
   "metadata": {},
   "outputs": [],
   "source": [
    "G.add_node('5')\n",
    "G.add_nodes_from(['6','7'])\n",
    "\n",
    "plt.figure(figsize = (12,12))\n",
    "pos=nx.circular_layout(G)\n",
    "nx.draw_networkx(G, pos = pos, with_labels = True, node_color = 'yellow',node_size=1000, font_size=16, width=5) \n",
    "plt.axis('off');"
   ]
  },
  {
   "cell_type": "markdown",
   "metadata": {},
   "source": [
    "We can add weights to the edges too."
   ]
  },
  {
   "cell_type": "code",
   "execution_count": null,
   "metadata": {},
   "outputs": [],
   "source": [
    "G.add_edge('1','2', weight = 1)\n",
    "G.add_edge('2','4', weight = 4)\n",
    "\n",
    "plt.figure(figsize = (12,12))\n",
    "labels = G.nodes()\n",
    "pos=nx.circular_layout(G)\n",
    "nx.draw_networkx(G, with_labels = True,node_color = 'yellow',node_size=1000,pos = pos, font_size=16, width=6) \n",
    "\n",
    "nx.draw_networkx_edge_labels(G,pos);\n",
    "plt.axis('off');"
   ]
  },
  {
   "cell_type": "markdown",
   "metadata": {},
   "source": [
    "We can also remove edges."
   ]
  },
  {
   "cell_type": "code",
   "execution_count": null,
   "metadata": {},
   "outputs": [],
   "source": [
    "G.remove_edge('1','4')\n",
    "\n",
    "plt.figure(figsize = (12,12))\n",
    "labels = G.nodes()\n",
    "pos=nx.circular_layout(G)\n",
    "nx.draw_networkx(G, with_labels = True,node_color = 'yellow',node_size=1000,pos = pos, font_size=16, width=6) \n",
    "\n",
    "nx.draw_networkx_edge_labels(G,pos);\n",
    "plt.axis('off');"
   ]
  },
  {
   "cell_type": "markdown",
   "metadata": {},
   "source": [
    "Clear the graph."
   ]
  },
  {
   "cell_type": "code",
   "execution_count": null,
   "metadata": {},
   "outputs": [],
   "source": [
    "G.clear()"
   ]
  },
  {
   "cell_type": "markdown",
   "metadata": {},
   "source": [
    "Can join two graph strucutres together."
   ]
  },
  {
   "cell_type": "code",
   "execution_count": null,
   "metadata": {},
   "outputs": [],
   "source": [
    "G1 = nx.Graph([(0,1),(1,2),(2,0)])\n",
    "\n",
    "plt.figure(figsize = (12,12))\n",
    "pos=nx.circular_layout(G1)\n",
    "nx.draw_networkx(G1, pos = pos, with_labels = True, node_color = 'yellow',node_size=1000, font_size=16, width=5) \n",
    "plt.axis('off');\n"
   ]
  },
  {
   "cell_type": "code",
   "execution_count": null,
   "metadata": {},
   "outputs": [],
   "source": [
    "G2 = nx.Graph([(0,1),(1,2),(2,3), (3,4), (2,4)])\n",
    "\n",
    "plt.figure(figsize = (12,12))\n",
    "pos=nx.circular_layout(G2)\n",
    "nx.draw_networkx(G2, pos = pos, with_labels = True, node_color = 'yellow',node_size=1000, font_size=16, width=5) \n",
    "plt.axis('off');\n"
   ]
  },
  {
   "cell_type": "code",
   "execution_count": null,
   "metadata": {},
   "outputs": [],
   "source": [
    "G3 = nx.disjoint_union(G1,G2)\n",
    "\n",
    "plt.figure(figsize = (12,12))\n",
    "pos=nx.circular_layout(G3)\n",
    "nx.draw_networkx(G3, pos = pos, with_labels = True, node_color = 'yellow',node_size=1000, font_size=16, width=5) \n",
    "plt.axis('off');"
   ]
  },
  {
   "cell_type": "markdown",
   "metadata": {},
   "source": [
    "Notice how the node labels change when they are joined together.\n",
    "\n",
    "We can also compose graphs together (i.e. nodes with same labels become one node) and again the labels get changed. "
   ]
  },
  {
   "cell_type": "code",
   "execution_count": null,
   "metadata": {},
   "outputs": [],
   "source": [
    "G4 = nx.compose(G1,G2)\n",
    "\n",
    "plt.figure(figsize = (12,12))\n",
    "pos=nx.circular_layout(G4)\n",
    "nx.draw_networkx(G4, pos = pos, with_labels = True, node_color = 'yellow',node_size=1000, font_size=16, width=5) \n",
    "plt.axis('off');"
   ]
  },
  {
   "cell_type": "markdown",
   "metadata": {},
   "source": [
    "We can create graphs with directed edges. "
   ]
  },
  {
   "cell_type": "code",
   "execution_count": null,
   "metadata": {},
   "outputs": [],
   "source": [
    "G.clear()\n",
    "\n",
    "edgelist=[(0,1),(1,2),(2,3), (3,1), (4,1)]\n",
    "G = nx.DiGraph(edgelist)\n",
    "\n",
    "plt.figure(figsize = (12,12))\n",
    "pos=nx.circular_layout(G)\n",
    "nx.draw_networkx(G, pos = pos, with_labels = True, node_color = 'yellow',node_size=1000, font_size=16, width=5) \n",
    "plt.axis('off');"
   ]
  },
  {
   "cell_type": "markdown",
   "metadata": {},
   "source": [
    "We can find the components of a non-connected graph."
   ]
  },
  {
   "cell_type": "code",
   "execution_count": null,
   "metadata": {},
   "outputs": [],
   "source": [
    "G.clear()\n",
    "G = nx.Graph([(0,1),(1,2),(2,3), (3,4), (2,4), (5,6), (6,7), (8,9)])\n",
    "\n",
    "plt.figure(figsize = (12,12))\n",
    "pos=nx.circular_layout(G)\n",
    "nx.draw_networkx(G, pos = pos, with_labels = True, node_color = 'yellow',node_size=1000, font_size=16, width=5) \n",
    "plt.axis('off');"
   ]
  },
  {
   "cell_type": "code",
   "execution_count": null,
   "metadata": {},
   "outputs": [],
   "source": [
    "# get the components\n",
    "Gcc = sorted([G.subgraph(c) for c in nx.connected_components(G)], key = len, reverse=True)\n",
    "print(Gcc[0].nodes())\n",
    "print(Gcc[1].nodes())\n",
    "print(Gcc[2].nodes())"
   ]
  },
  {
   "cell_type": "markdown",
   "metadata": {},
   "source": [
    "Now we can look at the node/edge properties."
   ]
  },
  {
   "cell_type": "code",
   "execution_count": null,
   "metadata": {},
   "outputs": [],
   "source": [
    "G.nodes"
   ]
  },
  {
   "cell_type": "code",
   "execution_count": null,
   "metadata": {},
   "outputs": [],
   "source": [
    "G.edges"
   ]
  },
  {
   "cell_type": "markdown",
   "metadata": {},
   "source": [
    "Or we can find the total number of each."
   ]
  },
  {
   "cell_type": "code",
   "execution_count": null,
   "metadata": {},
   "outputs": [],
   "source": [
    "N = len(G)\n",
    "M = G.number_of_edges()\n",
    "print('Number of nodes:', N)\n",
    "print('Number of edges:', M)"
   ]
  },
  {
   "cell_type": "markdown",
   "metadata": {},
   "source": [
    "We can find the degrees of all nodes (and the average). "
   ]
  },
  {
   "cell_type": "code",
   "execution_count": null,
   "metadata": {},
   "outputs": [],
   "source": [
    "vk = dict(G.degree())\n",
    "vk = list(vk.values())\n",
    "vk = np.array(vk)\n",
    "print('Degree = ', vk)\n",
    "\n",
    "md = np.mean(vk)\n",
    "print('Mean degree: ', md)"
   ]
  },
  {
   "cell_type": "markdown",
   "metadata": {},
   "source": [
    "We can also write a small function to calculate the degree distribution. Not very interesting for this graph but will be for bigger ones!"
   ]
  },
  {
   "cell_type": "code",
   "execution_count": null,
   "metadata": {},
   "outputs": [],
   "source": [
    "def degree_distribution(G):\n",
    "    vk = dict(G.degree())\n",
    "    vk = list(vk.values())  \n",
    "    vk = np.array(vk)        # store degree values in array\n",
    "    \n",
    "    maxk = np.max(vk)\n",
    "    k = np.arange(0,maxk+1) # possible values of k\n",
    "    \n",
    "    pk = np.zeros(maxk+1) # degree distribution p(k)\n",
    "    for i in vk:\n",
    "        pk[i] = pk[i] + 1\n",
    "    pk = pk/sum(pk) # the sum of the elements of P(k) must to be equal to one\n",
    "    \n",
    "    return k,pk"
   ]
  },
  {
   "cell_type": "code",
   "execution_count": null,
   "metadata": {},
   "outputs": [],
   "source": [
    "G.clear()\n",
    "G = nx.Graph([(0,1),(1,2),(2,3), (3,4), (2,4), (5,6), (6,7), (8,9),(6,2),(3,8)])\n",
    "\n",
    "plt.figure(figsize = (12,12))\n",
    "pos=nx.circular_layout(G)\n",
    "nx.draw_networkx(G, pos = pos, with_labels = True, node_color = 'yellow',node_size=1000, font_size=16, width=5) \n",
    "plt.axis('off');"
   ]
  },
  {
   "cell_type": "code",
   "execution_count": null,
   "metadata": {},
   "outputs": [],
   "source": [
    "k, pk = degree_distribution(G)\n",
    "\n",
    "plt.figure(figsize = (8,5))\n",
    "plt.bar(k,pk)\n",
    "plt.xlabel(\"k\", fontsize=20)\n",
    "plt.ylabel(\"p(k)\", fontsize=20)\n",
    "plt.title(\"Degree distribution\", fontsize=20)\n",
    "plt.grid(True)\n"
   ]
  },
  {
   "cell_type": "markdown",
   "metadata": {},
   "source": [
    "We can also work out the $n$th moment of the degree distribution, i.e. \n",
    "\n",
    "$$ \\langle k^n \\rangle = \\sum_{k} k^n p(k). $$  "
   ]
  },
  {
   "cell_type": "code",
   "execution_count": null,
   "metadata": {},
   "outputs": [],
   "source": [
    "def deg_dist_moments(G,n):\n",
    "    k,pk = degree_distribution(G)\n",
    "    sol = sum((k**n)*pk)\n",
    "    return sol"
   ]
  },
  {
   "cell_type": "code",
   "execution_count": null,
   "metadata": {},
   "outputs": [],
   "source": [
    "k1 = deg_dist_moments(G,1)\n",
    "k2 = deg_dist_moments(G,2)\n",
    "print(\"First moment of the degree distribution = \", k1)\n",
    "print(\"Second moment of the degree distribution = \", k2)\n",
    "print(\"Degree variance = \", k2 - k1**2)"
   ]
  },
  {
   "cell_type": "markdown",
   "metadata": {},
   "source": [
    "Now for the shortest paths between all pairs of nodes. Gives a list, but you can use this function (double check it works) to find the matrix of shortest paths $(D)_{i,j} = d_{i,j}$ for $i,j \\in V$."
   ]
  },
  {
   "cell_type": "code",
   "execution_count": null,
   "metadata": {},
   "outputs": [],
   "source": [
    "D_list = nx.shortest_path(G)\n",
    "print(D_list)"
   ]
  },
  {
   "cell_type": "code",
   "execution_count": null,
   "metadata": {},
   "outputs": [],
   "source": [
    "#but we can (inefficiently) loop through each element and store each in matrix D\n",
    "def shortest_path_matrix(G):\n",
    "    D = np.zeros(shape=(len(G),len(G)))\n",
    "    vl = [] #for the histogram below\n",
    "    for i in np.arange(0,len(G)):\n",
    "        for j in np.arange(i+1, len(G)):\n",
    "            if(i != j):\n",
    "                aux = nx.shortest_path(G,i,j)\n",
    "                dij = len(aux) - 1\n",
    "                D[i][j] = dij\n",
    "                D[j][i] = dij\n",
    "                vl.append(dij)\n",
    "    return D, vl"
   ]
  },
  {
   "cell_type": "code",
   "execution_count": null,
   "metadata": {},
   "outputs": [],
   "source": [
    "D, vl = shortest_path_matrix(G)\n",
    "\n",
    "# we can produce a histogram of the shortest paths\n",
    "plt.hist(vl, bins = np.arange(0.5,np.max(vl)+1), normed=True)\n",
    "plt.title(\"Distribution of the geodesic distances\")\n",
    "plt.ylabel(\"Frac. of shortest paths\")\n",
    "plt.xlabel(\"Shortest path length (l)\")\n",
    "plt.grid()\n",
    "plt.show()"
   ]
  },
  {
   "cell_type": "code",
   "execution_count": null,
   "metadata": {},
   "outputs": [],
   "source": [
    "avg_D = nx.average_shortest_path_length(G)\n",
    "print(\"Average shortest path length:\", avg_D)"
   ]
  },
  {
   "cell_type": "code",
   "execution_count": null,
   "metadata": {},
   "outputs": [],
   "source": [
    "d = nx.diameter(G)\n",
    "print('Diameter (max. shortest path) = ', d)"
   ]
  },
  {
   "cell_type": "markdown",
   "metadata": {},
   "source": [
    "### Karate Club Example\n",
    "\n",
    "Zachary W. (1977). An information flow model for conflict and fission in small groups. Journal of Anthropological Research, 33, 452-473._\n",
    "\n",
    "Data collected from the members of a university karate club by Wayne Zachary. The adjacency matrix represents the presence or absence of ties among the members of the club."
   ]
  },
  {
   "cell_type": "code",
   "execution_count": null,
   "metadata": {},
   "outputs": [],
   "source": [
    "G.clear()\n",
    "G = nx.karate_club_graph()\n",
    "\n",
    "plt.figure(figsize = (12,12))\n",
    "pos=nx.circular_layout(G)\n",
    "nx.draw_networkx(G, pos = pos, with_labels = True, node_color = 'yellow',node_size=1000, font_size=16, width=5) \n",
    "plt.axis('off');"
   ]
  },
  {
   "cell_type": "code",
   "execution_count": null,
   "metadata": {},
   "outputs": [],
   "source": [
    "N = len(G)\n",
    "M = G.number_of_edges()\n",
    "print('Number of nodes:', N)\n",
    "print('Number of edges:', M)"
   ]
  },
  {
   "cell_type": "code",
   "execution_count": null,
   "metadata": {},
   "outputs": [],
   "source": [
    "vk = dict(G.degree())\n",
    "vk = list(vk.values())\n",
    "vk = np.array(vk)\n",
    "print('Degree = ', vk)\n",
    "\n",
    "md = np.mean(vk)\n",
    "print('Mean degree: ', md)"
   ]
  },
  {
   "cell_type": "code",
   "execution_count": null,
   "metadata": {
    "scrolled": false
   },
   "outputs": [],
   "source": [
    "k, pk = degree_distribution(G)\n",
    "\n",
    "plt.figure(figsize = (10,8))\n",
    "plt.bar(k,pk)\n",
    "plt.scatter(k,pk)\n",
    "plt.xlabel(\"k\", fontsize=20)\n",
    "plt.ylabel(\"p(k)\", fontsize=20)\n",
    "plt.title(\"Degree distribution\", fontsize=20)\n",
    "plt.grid(True)"
   ]
  },
  {
   "cell_type": "code",
   "execution_count": null,
   "metadata": {},
   "outputs": [],
   "source": [
    "k1 = deg_dist_moments(G,1)\n",
    "k2 = deg_dist_moments(G,2)\n",
    "print(\"First moment of the degree distribution = \", k1)\n",
    "print(\"Second moment of the degree distribution = \", k2)\n",
    "print(\"Degree variance = \", k2 - k1**2)"
   ]
  },
  {
   "cell_type": "code",
   "execution_count": null,
   "metadata": {},
   "outputs": [],
   "source": [
    "D, vl = shortest_path_matrix(G)\n",
    "\n",
    "# we can produce a histogram of the shortest paths\n",
    "plt.hist(vl, bins = np.arange(0.5,np.max(vl)+1), normed=True)\n",
    "plt.title(\"Distribution of the geodesic distances\")\n",
    "plt.ylabel(\"Frac. of shortest paths\")\n",
    "plt.xlabel(\"Shortest path length (l)\")\n",
    "plt.grid()\n",
    "plt.show()"
   ]
  },
  {
   "cell_type": "code",
   "execution_count": null,
   "metadata": {},
   "outputs": [],
   "source": [
    "avg_D = nx.average_shortest_path_length(G)\n",
    "print(\"Average shortest path length:\", avg_D)\n",
    "\n",
    "d = nx.diameter(G)\n",
    "print('Diameter (max. shortest path) = ', d)"
   ]
  },
  {
   "cell_type": "markdown",
   "metadata": {},
   "source": [
    "### Now for the graph from Q1.\n",
    "\n",
    "We want to create a graph from an adjacency matrix."
   ]
  },
  {
   "cell_type": "code",
   "execution_count": null,
   "metadata": {},
   "outputs": [],
   "source": [
    "A = np.array([[0,1,0,0,0,0,0,0,0,0,0],[1,0,1,1,1,0,0,0,0,0,0],[0,1,0,1,0,0,0,0,0,0,0],[0,1,1,0,1,1,0,0,0,0,0],[0,1,0,1,0,1,0,0,0,0,0],[0,0,0,1,1,0,1,1,1,0,0],[0,0,0,0,0,1,0,1,1,0,0],[0,0,0,0,0,1,1,0,1,1,1],[0,0,0,0,0,1,1,1,0,1,0],[0,0,0,0,0,0,0,1,1,0,1],[0,0,0,0,0,0,0,1,0,1,0]])\n",
    "print(A)"
   ]
  },
  {
   "cell_type": "code",
   "execution_count": null,
   "metadata": {},
   "outputs": [],
   "source": [
    "G.clear()\n",
    "G = nx.from_numpy_matrix(A)\n",
    "\n",
    "plt.figure(figsize = (12,12))\n",
    "pos=nx.circular_layout(G)\n",
    "nx.draw_networkx(G, pos = pos, with_labels = True, node_color = 'yellow',node_size=1000, font_size=16, width=5) \n",
    "plt.axis('off');"
   ]
  },
  {
   "cell_type": "code",
   "execution_count": null,
   "metadata": {},
   "outputs": [],
   "source": [
    "N = len(G)\n",
    "M = G.number_of_edges()\n",
    "print('Number of nodes:', N)\n",
    "print('Number of edges:', M)"
   ]
  },
  {
   "cell_type": "code",
   "execution_count": null,
   "metadata": {},
   "outputs": [],
   "source": [
    "vk = dict(G.degree())\n",
    "vk = list(vk.values())\n",
    "vk = np.array(vk)\n",
    "print('Degree = ', vk)\n",
    "\n",
    "md = np.mean(vk)\n",
    "print('Mean degree: ', md)"
   ]
  },
  {
   "cell_type": "code",
   "execution_count": null,
   "metadata": {},
   "outputs": [],
   "source": [
    "k, pk = degree_distribution(G)\n",
    "\n",
    "plt.figure(figsize = (10,8))\n",
    "plt.bar(k,pk)\n",
    "plt.scatter(k,pk)\n",
    "plt.xlabel(\"k\", fontsize=20)\n",
    "plt.ylabel(\"p(k)\", fontsize=20)\n",
    "plt.title(\"Degree distribution\", fontsize=20)\n",
    "plt.grid(True)\n"
   ]
  },
  {
   "cell_type": "code",
   "execution_count": null,
   "metadata": {},
   "outputs": [],
   "source": [
    "k1 = deg_dist_moments(G,1)\n",
    "k2 = deg_dist_moments(G,2)\n",
    "print(\"First moment of the degree distribution = \", k1)\n",
    "print(\"Second moment of the degree distribution = \", k2)\n",
    "print(\"Degree variance = \", k2 - k1**2)"
   ]
  },
  {
   "cell_type": "code",
   "execution_count": null,
   "metadata": {},
   "outputs": [],
   "source": [
    "D, vl = shortest_path_matrix(G)\n",
    "\n",
    "# we can produce a histogram of the shortest paths\n",
    "plt.hist(vl, bins = np.arange(0.5,np.max(vl)+1), normed=True)\n",
    "plt.title(\"Distribution of the geodesic distances\")\n",
    "plt.ylabel(\"Frac. of shortest paths\")\n",
    "plt.xlabel(\"Shortest path length (l)\")\n",
    "plt.grid()\n",
    "plt.show()"
   ]
  },
  {
   "cell_type": "code",
   "execution_count": null,
   "metadata": {},
   "outputs": [],
   "source": [
    "avg_D = nx.average_shortest_path_length(G)\n",
    "print(\"Average shortest path length:\", avg_D)\n",
    "\n",
    "d = nx.diameter(G)\n",
    "print('Diameter (max. shortest path) = ', d)"
   ]
  },
  {
   "cell_type": "markdown",
   "metadata": {},
   "source": [
    "## Random graphs\n",
    "\n",
    "You can see Emma's old notebooks (7-10) for more analysis on these graphs - specifically how to find/plot the degree tail distributions or the Wigner semi-circle law etc."
   ]
  },
  {
   "cell_type": "markdown",
   "metadata": {},
   "source": [
    "### Erdos-Renyi\n",
    "\n",
    "Definition: An ER random graph $G_{N,k}$ has uniform distribution on the set of all possible undirected graphs with $N$ vertices and $k = |E|/2$ edges.\n",
    "\n",
    "Essentially: it has $N$ nodes and each edge is present with probability $p$ where $p = z/N-1$ and $z$ is the expected degree, i.e. $z = \\langle k \\rangle$.\n",
    "\n",
    "`nx.gnp_random_graph`: Returns a $G_{n,k}$ random graph, also known as an Erdős-Rényi random graph or a binomial graph."
   ]
  },
  {
   "cell_type": "code",
   "execution_count": null,
   "metadata": {},
   "outputs": [],
   "source": [
    "N = 100     # number of nodes\n",
    "z = 5       # expected degree\n",
    "p = z/(N-1) # probability that an edge is added\n",
    "\n",
    "G = nx.gnp_random_graph(N,p) \n",
    "\n",
    "pos = nx.fruchterman_reingold_layout(G);\n",
    "#pos=nx.circular_layout(G)\n",
    "plt.figure(figsize=(8,8));\n",
    "plt.axis(\"off\");\n",
    "nx.draw_networkx_nodes(G, pos, node_size=300, node_color=\"black\");\n",
    "nx.draw_networkx_edges(G, pos, alpha=0.500);\n",
    "nx.draw_networkx_labels(G, pos, font_color=\"white\");\n",
    "plt.show();"
   ]
  },
  {
   "cell_type": "code",
   "execution_count": null,
   "metadata": {},
   "outputs": [],
   "source": [
    "N = len(G)\n",
    "M = G.number_of_edges()\n",
    "print('Number of nodes:', N)\n",
    "print('Number of edges:', M)\n",
    "\n",
    "k1 = deg_dist_moments(G,1)\n",
    "k2 = deg_dist_moments(G,2)\n",
    "print(\"First moment of the degree distribution = \", k1)\n",
    "print(\"Second moment of the degree distribution = \", k2)\n",
    "print(\"Degree variance = \", k2 - k1**2)"
   ]
  },
  {
   "cell_type": "code",
   "execution_count": null,
   "metadata": {
    "scrolled": false
   },
   "outputs": [],
   "source": [
    "k, pk = degree_distribution(G)\n",
    "\n",
    "plt.figure(figsize = (10,8))\n",
    "plt.bar(k,pk)\n",
    "plt.scatter(k,pk)\n",
    "plt.xlabel(\"k\", fontsize=20)\n",
    "plt.ylabel(\"p(k)\", fontsize=20)\n",
    "plt.title(\"Degree distribution\", fontsize=20)\n",
    "plt.grid(True)"
   ]
  },
  {
   "cell_type": "markdown",
   "metadata": {},
   "source": [
    "We can find the size of the connected components."
   ]
  },
  {
   "cell_type": "code",
   "execution_count": null,
   "metadata": {
    "scrolled": true
   },
   "outputs": [],
   "source": [
    "Gcc = sorted([G.subgraph(c) for c in nx.connected_components(G)], key = len, reverse=True)\n",
    "print(len(Gcc[0].nodes()))\n",
    "print(len(Gcc[1].nodes()))"
   ]
  },
  {
   "cell_type": "markdown",
   "metadata": {},
   "source": [
    "And the average local clustering coefficients. This should be equal to the probability $p$ as $N \\rightarrow \\infty$!"
   ]
  },
  {
   "cell_type": "code",
   "execution_count": null,
   "metadata": {},
   "outputs": [],
   "source": [
    "avc = nx.average_clustering(G)\n",
    "print(\"Average clustering:\", avc, 'and p = ', p)"
   ]
  },
  {
   "cell_type": "markdown",
   "metadata": {},
   "source": [
    "#### Wigner semi-circle law\n",
    "\n",
    "Spectrum of adjacency matrix $A$: set of eigenvalues of a matrix.\n",
    "\n",
    "Plot eigenvalue against spectral density (and compare this to wigner semi-circle law).\n",
    "\n",
    "Use `nx.to_numpy_matrix(G)` to get the adjacency matrix (in numpy format). There exists `nx.adjacency_matrix(G)` which creates a **sparse matrix** -- better for large data sets."
   ]
  },
  {
   "cell_type": "code",
   "execution_count": null,
   "metadata": {},
   "outputs": [],
   "source": [
    "# pick input parameters and simulate 20 ER graphs\n",
    "\n",
    "# we basically want the e'value set from each (as they will be different upon\n",
    "# each realisation)\n",
    "z = 10\n",
    "N = 1000\n",
    "realisations = 5\n",
    "p = z/N\n",
    "E = np.zeros((realisations,N))\n",
    "for i in range(realisations):\n",
    "    G = nx.gnp_random_graph(N,p) # generate the graphs\n",
    "    A = nx.to_numpy_matrix(G)    #find adjacency matrix\n",
    "    evals, evecs = np.linalg.eig(A/np.sqrt(N))  #calculate e'vales\n",
    "    E[i,:] = np.sort(evals)  #sort in order\n",
    "\n",
    "avg_evals = np.mean(E,axis=0)  #average the e'values over the realisations"
   ]
  },
  {
   "cell_type": "code",
   "execution_count": null,
   "metadata": {},
   "outputs": [],
   "source": [
    "# find the spectral density using a kernel density estimate \n",
    "spectral_density = stats.gaussian_kde(avg_evals, bw_method = 0.05)\n",
    "\n",
    "#plot the density\n",
    "λ = np.linspace(avg_evals.min(), avg_evals.max(), N)\n",
    "plt.plot(λ, spectral_density(λ))\n",
    "plt.xlabel('λ', fontsize = 20)\n",
    "plt.ylabel('ρ(λ)', fontsize = 20)"
   ]
  },
  {
   "cell_type": "markdown",
   "metadata": {},
   "source": [
    "### Barabasi-Albert Model\n",
    "\n",
    "Take the complete graph $G_{m0} = (V_0,E_0)$ and at each time step $t = 1,\\dots,N-m_0$, add a new node $j = t+m_0$. This node forms $m \\leq m_0$ edges with the existing nodes $i \\in V_{t-1}$ with probability $p_i = k_i / \\sum_{j \\in V{t}} k_j$. \n",
    "\n",
    "The result is a BA random graph with $N$ nodes and ${m_0 \\choose 2} + m(N-m_0)$ edges."
   ]
  },
  {
   "cell_type": "code",
   "execution_count": null,
   "metadata": {},
   "outputs": [],
   "source": [
    "# in this implementation m0 = m.\n",
    "\n",
    "m = 5     # number of edges added each time (preferential attachment) (also the number of initial nodes)\n",
    "N = 100   # total number of nodes at the end\n",
    "\n",
    "# initialization is a graph with with m nodes and no edges.\n",
    "G = nx.barabasi_albert_graph(N, m) \n",
    "\n",
    "pos = nx.fruchterman_reingold_layout(G);\n",
    "plt.figure(figsize=(8,8));\n",
    "plt.axis(\"off\");\n",
    "nx.draw_networkx_nodes(G, pos, node_size=300, node_color=\"black\");\n",
    "nx.draw_networkx_edges(G, pos, alpha=0.500);\n",
    "nx.draw_networkx_labels(G, pos, font_color=\"white\");\n",
    "plt.show();"
   ]
  },
  {
   "cell_type": "code",
   "execution_count": null,
   "metadata": {},
   "outputs": [],
   "source": [
    "N = len(G)\n",
    "M = G.number_of_edges()\n",
    "print('Number of nodes:', N)\n",
    "print('Number of edges:', M)\n",
    "\n",
    "k1 = deg_dist_moments(G,1)\n",
    "k2 = deg_dist_moments(G,2)\n",
    "print(\"First moment of the degree distribution = \", k1)\n",
    "print(\"Second moment of the degree distribution = \", k2)\n",
    "print(\"Degree variance = \", k2 - k1**2)"
   ]
  },
  {
   "cell_type": "code",
   "execution_count": null,
   "metadata": {},
   "outputs": [],
   "source": [
    "k, pk = degree_distribution(G)\n",
    "\n",
    "plt.figure(figsize = (10,8))\n",
    "plt.bar(k,pk)\n",
    "plt.scatter(k,pk)\n",
    "plt.xlabel(\"k\", fontsize=20)\n",
    "plt.ylabel(\"p(k)\", fontsize=20)\n",
    "plt.title(\"Degree distribution\", fontsize=20)\n",
    "plt.grid(True)"
   ]
  },
  {
   "cell_type": "markdown",
   "metadata": {},
   "source": [
    "### Dorogovtsev-Goltsev-Mendes\n",
    "\n",
    "This is just a generalisaion of the BA model with an altered probability. Start with $m_0=5$ nodes and then at each timestep we add a node, linking it to $m=5$ other existing nodes with some probability (see question sheet).\n",
    "\n",
    "Note we need to import the extra python file 'graphUtils'.\n",
    "\n",
    "Note how I haven't defined $m_0$ or $m$ (i.e. the number of intial connected nodes and how many egdes to add at each time step) - this is pre-defined in the packag. Test this out by setting N = 5 below.\n"
   ]
  },
  {
   "cell_type": "code",
   "execution_count": null,
   "metadata": {},
   "outputs": [],
   "source": [
    "import random           # random numbers\n",
    "import graphUtils as gu # need this package (see the file on my Github). "
   ]
  },
  {
   "cell_type": "code",
   "execution_count": null,
   "metadata": {},
   "outputs": [],
   "source": [
    "# we can simulate it using\n",
    "N = 100\n",
    "k0 = 1\n",
    "G = gu.dms_graph_basic(N,k0)\n",
    "\n",
    "N = len(G)\n",
    "M = G.number_of_edges()\n",
    "print('Number of nodes:', N)\n",
    "print('Number of edges:', M)\n",
    "\n",
    "k1 = deg_dist_moments(G,1)\n",
    "k2 = deg_dist_moments(G,2)\n",
    "print(\"First moment of the degree distribution = \", k1)\n",
    "print(\"Second moment of the degree distribution = \", k2)\n",
    "print(\"Degree variance = \", k2 - k1**2)"
   ]
  },
  {
   "cell_type": "code",
   "execution_count": null,
   "metadata": {},
   "outputs": [],
   "source": [
    "pos = nx.fruchterman_reingold_layout(G);\n",
    "plt.figure(figsize=(8,8));\n",
    "plt.axis(\"off\");\n",
    "nx.draw_networkx_nodes(G, pos, node_size=300, node_color=\"black\");\n",
    "nx.draw_networkx_edges(G, pos, alpha=0.500);\n",
    "nx.draw_networkx_labels(G, pos, font_color=\"white\");\n",
    "plt.show();"
   ]
  },
  {
   "cell_type": "code",
   "execution_count": null,
   "metadata": {},
   "outputs": [],
   "source": [
    "k, pk = degree_distribution(G)\n",
    "\n",
    "plt.figure(figsize = (10,8))\n",
    "#plt.bar(k,pk)\n",
    "plt.scatter(k,pk, label='Empirical distribution')\n",
    "\n",
    "pwr = -2.0 - (k0/5.0) # add the line\n",
    "plt.plot(np.asarray(range(N)),10*np.asarray(range(N))**pwr,'k-',lw=3,label='Power law ($100k^{-2-k_0/m}$)')\n",
    "\n",
    "plt.xscale('log')\n",
    "plt.yscale('log')\n",
    "\n",
    "plt.xlabel(\"k\", fontsize=20)\n",
    "plt.ylabel(\"p(k)\", fontsize=20)\n",
    "plt.title(\"Degree distribution\", fontsize=20)\n",
    "plt.legend()\n",
    "plt.grid(True)\n",
    "\n",
    "plt.xlim(k0-1,N)"
   ]
  },
  {
   "cell_type": "markdown",
   "metadata": {},
   "source": [
    "### Watts-Strogatz"
   ]
  },
  {
   "cell_type": "code",
   "execution_count": null,
   "metadata": {},
   "outputs": [],
   "source": [
    "N = 50  # number of nodes\n",
    "n = 6    # each node is connected to n nearest neighbours (in ring topology)\n",
    "p = 0.4  # probability of re-wiring each edge\n",
    "\n",
    "G = nx.watts_strogatz_graph(N,n,p) \n",
    "\n",
    "pos=nx.circular_layout(G)\n",
    "plt.figure(figsize=(8,8));\n",
    "plt.axis(\"off\");\n",
    "nx.draw_networkx_nodes(G, pos, node_size=300, node_color=\"black\");\n",
    "nx.draw_networkx_edges(G, pos, alpha=0.500);\n",
    "nx.draw_networkx_labels(G, pos, font_color=\"white\");\n",
    "plt.show();"
   ]
  },
  {
   "cell_type": "code",
   "execution_count": null,
   "metadata": {},
   "outputs": [],
   "source": [
    "N = len(G)\n",
    "M = G.number_of_edges()\n",
    "print('Number of nodes:', N)\n",
    "print('Number of edges:', M)\n",
    "\n",
    "k1 = deg_dist_moments(G,1)\n",
    "k2 = deg_dist_moments(G,2)\n",
    "print(\"First moment of the degree distribution = \", k1)\n",
    "print(\"Second moment of the degree distribution = \", k2)\n",
    "print(\"Degree variance = \", k2 - k1**2)"
   ]
  },
  {
   "cell_type": "code",
   "execution_count": null,
   "metadata": {},
   "outputs": [],
   "source": [
    "k, pk = degree_distribution(G)\n",
    "\n",
    "plt.figure(figsize = (10,8))\n",
    "plt.bar(k,pk)\n",
    "plt.scatter(k,pk)\n",
    "plt.xlabel(\"k\", fontsize=20)\n",
    "plt.ylabel(\"p(k)\", fontsize=20)\n",
    "plt.title(\"Degree distribution\", fontsize=20)\n",
    "plt.grid(True)"
   ]
  },
  {
   "cell_type": "code",
   "execution_count": null,
   "metadata": {},
   "outputs": [],
   "source": []
  },
  {
   "cell_type": "code",
   "execution_count": null,
   "metadata": {},
   "outputs": [],
   "source": []
  },
  {
   "cell_type": "code",
   "execution_count": null,
   "metadata": {},
   "outputs": [],
   "source": []
  }
 ],
 "metadata": {
  "kernelspec": {
   "display_name": "Python 3",
   "language": "python",
   "name": "python3"
  },
  "language_info": {
   "codemirror_mode": {
    "name": "ipython",
    "version": 3
   },
   "file_extension": ".py",
   "mimetype": "text/x-python",
   "name": "python",
   "nbconvert_exporter": "python",
   "pygments_lexer": "ipython3",
   "version": "3.7.3"
  }
 },
 "nbformat": 4,
 "nbformat_minor": 2
}
